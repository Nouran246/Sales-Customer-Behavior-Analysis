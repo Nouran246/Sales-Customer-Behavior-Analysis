{
  "cells": [
    {
      "cell_type": "markdown",
      "id": "44880rFVVUj_",
      "metadata": {
        "id": "44880rFVVUj_"
      },
      "source": [
        "# Imports\n"
      ]
    },
    {
      "cell_type": "code",
      "execution_count": 1,
      "id": "303dd040",
      "metadata": {
        "id": "303dd040"
      },
      "outputs": [],
      "source": [
        "import matplotlib.pyplot as plt\n",
        "import matplotlib.dates as dates\n",
        "from datetime import datetime\n",
        "#import squarify\n",
        "import category_encoders as ce\n",
        "from sklearn.preprocessing import LabelEncoder\n",
        "from sklearn.preprocessing import MinMaxScaler\n",
        "from statsmodels.graphics.tsaplots import plot_acf, plot_pacf\n",
        "from statsmodels.tsa.seasonal import seasonal_decompose\n",
        "from statsmodels.tsa.stattools import adfuller\n",
        "from sklearn.model_selection import train_test_split\n",
        "from xgboost import plot_importance\n",
        "from sklearn.utils import resample\n",
        "from sklearn import metrics\n",
        "import seaborn as sns\n",
        "import numpy as np # linear algebra\n",
        "import pandas as pd # data processing, CSV file I/O (e.g. pd.read_csv)"
      ]
    },
    {
      "cell_type": "markdown",
      "id": "VxwmEAzKVYdU",
      "metadata": {
        "id": "VxwmEAzKVYdU"
      },
      "source": [
        "# Load Dataset"
      ]
    },
    {
      "cell_type": "code",
      "execution_count": 2,
      "id": "0v7Kg9UooweC",
      "metadata": {
        "colab": {
          "base_uri": "https://localhost:8080/"
        },
        "id": "0v7Kg9UooweC",
        "outputId": "d7b0671a-745f-4e12-ef05-c499ef60032c"
      },
      "outputs": [],
      "source": [
        "# # Install dependencies if needed:\n",
        "# # pip install kagglehub[pandas-datasets]\n",
        "\n",
        "# import kagglehub\n",
        "# from kagglehub import KaggleDatasetAdapter\n",
        "# import pandas as pd\n",
        "\n",
        "# # Specify the CSV file you want from the dataset\n",
        "# file_path = \"2019-Oct.csv\"  # You can change to another file, like '2019-Nov.csv'\n",
        "\n",
        "# # Load only the first 1,000,000 rows using pandas_kwargs\n",
        "# df = kagglehub.load_dataset(\n",
        "#     KaggleDatasetAdapter.PANDAS,\n",
        "#     \"mkechinov/ecommerce-behavior-data-from-multi-category-store\",\n",
        "#     file_path,\n",
        "#     pandas_kwargs={\"nrows\": 2000000}\n",
        "# )\n",
        "\n",
        "# # Show the first 5 records\n",
        "# print(\"First 5 records:\")\n",
        "# print(df.head())\n"
      ]
    },
    {
      "cell_type": "code",
      "execution_count": null,
      "id": "fc6d0749",
      "metadata": {},
      "outputs": [],
      "source": [
        "# Count the total number of lines in the file\n",
        "n_rows = sum(1 for line in open('2019-Oct.csv')) - 1  # subtract 1 for header\n",
        "sample_size = 1_000_000\n",
        "\n",
        "# Generate line numbers to skip (excluding the header)\n",
        "skip = sorted(random.sample(range(1, n_rows + 1), n_rows - sample_size))\n",
        "\n",
        "# Read the sampled rows\n",
        "df = pd.read_csv('2019-Oct.csv', skiprows=skip)"
      ]
    },
    {
      "cell_type": "code",
      "execution_count": 4,
      "id": "78e676fc",
      "metadata": {
        "colab": {
          "base_uri": "https://localhost:8080/"
        },
        "id": "78e676fc",
        "outputId": "fd93d30d-f195-497b-e527-f2c4e00d01f6"
      },
      "outputs": [
        {
          "name": "stdout",
          "output_type": "stream",
          "text": [
            "<class 'pandas.core.frame.DataFrame'>\n",
            "RangeIndex: 42448764 entries, 0 to 42448763\n",
            "Data columns (total 9 columns):\n",
            " #   Column         Dtype  \n",
            "---  ------         -----  \n",
            " 0   event_time     object \n",
            " 1   event_type     object \n",
            " 2   product_id     int64  \n",
            " 3   category_id    int64  \n",
            " 4   category_code  object \n",
            " 5   brand          object \n",
            " 6   price          float64\n",
            " 7   user_id        int64  \n",
            " 8   user_session   object \n",
            "dtypes: float64(1), int64(3), object(5)\n",
            "memory usage: 2.8+ GB\n"
          ]
        }
      ],
      "source": [
        "df.info()"
      ]
    },
    {
      "cell_type": "code",
      "execution_count": 5,
      "id": "6335e9bf",
      "metadata": {
        "colab": {
          "base_uri": "https://localhost:8080/"
        },
        "id": "6335e9bf",
        "outputId": "d70516ee-39ff-4989-dd65-59cfa2875bac"
      },
      "outputs": [
        {
          "data": {
            "text/plain": [
              "(42448764, 9)"
            ]
          },
          "execution_count": 5,
          "metadata": {},
          "output_type": "execute_result"
        }
      ],
      "source": [
        "df.shape"
      ]
    },
    {
      "cell_type": "markdown",
      "id": "ZhCE0BKuVeS6",
      "metadata": {
        "id": "ZhCE0BKuVeS6"
      },
      "source": [
        "# Preprocessing\n"
      ]
    },
    {
      "cell_type": "code",
      "execution_count": 6,
      "id": "1be75d96",
      "metadata": {
        "colab": {
          "base_uri": "https://localhost:8080/"
        },
        "id": "1be75d96",
        "outputId": "152c47a1-0f82-49cf-f96d-e7b591b8d054"
      },
      "outputs": [
        {
          "data": {
            "text/plain": [
              "19632691"
            ]
          },
          "execution_count": 6,
          "metadata": {},
          "output_type": "execute_result"
        }
      ],
      "source": [
        "df.isnull().sum().sum()"
      ]
    },
    {
      "cell_type": "code",
      "execution_count": 7,
      "id": "yZzzPp8TQeuT",
      "metadata": {
        "colab": {
          "base_uri": "https://localhost:8080/",
          "height": 400
        },
        "id": "yZzzPp8TQeuT",
        "outputId": "5705b651-d231-458e-ce0e-df7abebc0f43"
      },
      "outputs": [
        {
          "data": {
            "text/html": [
              "<div>\n",
              "<style scoped>\n",
              "    .dataframe tbody tr th:only-of-type {\n",
              "        vertical-align: middle;\n",
              "    }\n",
              "\n",
              "    .dataframe tbody tr th {\n",
              "        vertical-align: top;\n",
              "    }\n",
              "\n",
              "    .dataframe thead th {\n",
              "        text-align: right;\n",
              "    }\n",
              "</style>\n",
              "<table border=\"1\" class=\"dataframe\">\n",
              "  <thead>\n",
              "    <tr style=\"text-align: right;\">\n",
              "      <th></th>\n",
              "      <th>event_time</th>\n",
              "      <th>event_type</th>\n",
              "      <th>product_id</th>\n",
              "      <th>category_id</th>\n",
              "      <th>category_code</th>\n",
              "      <th>brand</th>\n",
              "      <th>price</th>\n",
              "      <th>user_id</th>\n",
              "      <th>user_session</th>\n",
              "    </tr>\n",
              "  </thead>\n",
              "  <tbody>\n",
              "    <tr>\n",
              "      <th>0</th>\n",
              "      <td>2019-10-01 00:00:00 UTC</td>\n",
              "      <td>view</td>\n",
              "      <td>44600062</td>\n",
              "      <td>2103807459595387724</td>\n",
              "      <td>NaN</td>\n",
              "      <td>shiseido</td>\n",
              "      <td>35.79</td>\n",
              "      <td>541312140</td>\n",
              "      <td>72d76fde-8bb3-4e00-8c23-a032dfed738c</td>\n",
              "    </tr>\n",
              "    <tr>\n",
              "      <th>1</th>\n",
              "      <td>2019-10-01 00:00:00 UTC</td>\n",
              "      <td>view</td>\n",
              "      <td>3900821</td>\n",
              "      <td>2053013552326770905</td>\n",
              "      <td>appliances.environment.water_heater</td>\n",
              "      <td>aqua</td>\n",
              "      <td>33.20</td>\n",
              "      <td>554748717</td>\n",
              "      <td>9333dfbd-b87a-4708-9857-6336556b0fcc</td>\n",
              "    </tr>\n",
              "    <tr>\n",
              "      <th>2</th>\n",
              "      <td>2019-10-01 00:00:01 UTC</td>\n",
              "      <td>view</td>\n",
              "      <td>17200506</td>\n",
              "      <td>2053013559792632471</td>\n",
              "      <td>furniture.living_room.sofa</td>\n",
              "      <td>NaN</td>\n",
              "      <td>543.10</td>\n",
              "      <td>519107250</td>\n",
              "      <td>566511c2-e2e3-422b-b695-cf8e6e792ca8</td>\n",
              "    </tr>\n",
              "    <tr>\n",
              "      <th>3</th>\n",
              "      <td>2019-10-01 00:00:01 UTC</td>\n",
              "      <td>view</td>\n",
              "      <td>1307067</td>\n",
              "      <td>2053013558920217191</td>\n",
              "      <td>computers.notebook</td>\n",
              "      <td>lenovo</td>\n",
              "      <td>251.74</td>\n",
              "      <td>550050854</td>\n",
              "      <td>7c90fc70-0e80-4590-96f3-13c02c18c713</td>\n",
              "    </tr>\n",
              "    <tr>\n",
              "      <th>4</th>\n",
              "      <td>2019-10-01 00:00:04 UTC</td>\n",
              "      <td>view</td>\n",
              "      <td>1004237</td>\n",
              "      <td>2053013555631882655</td>\n",
              "      <td>electronics.smartphone</td>\n",
              "      <td>apple</td>\n",
              "      <td>1081.98</td>\n",
              "      <td>535871217</td>\n",
              "      <td>c6bd7419-2748-4c56-95b4-8cec9ff8b80d</td>\n",
              "    </tr>\n",
              "  </tbody>\n",
              "</table>\n",
              "</div>"
            ],
            "text/plain": [
              "                event_time event_type  product_id          category_id  \\\n",
              "0  2019-10-01 00:00:00 UTC       view    44600062  2103807459595387724   \n",
              "1  2019-10-01 00:00:00 UTC       view     3900821  2053013552326770905   \n",
              "2  2019-10-01 00:00:01 UTC       view    17200506  2053013559792632471   \n",
              "3  2019-10-01 00:00:01 UTC       view     1307067  2053013558920217191   \n",
              "4  2019-10-01 00:00:04 UTC       view     1004237  2053013555631882655   \n",
              "\n",
              "                         category_code     brand    price    user_id  \\\n",
              "0                                  NaN  shiseido    35.79  541312140   \n",
              "1  appliances.environment.water_heater      aqua    33.20  554748717   \n",
              "2           furniture.living_room.sofa       NaN   543.10  519107250   \n",
              "3                   computers.notebook    lenovo   251.74  550050854   \n",
              "4               electronics.smartphone     apple  1081.98  535871217   \n",
              "\n",
              "                           user_session  \n",
              "0  72d76fde-8bb3-4e00-8c23-a032dfed738c  \n",
              "1  9333dfbd-b87a-4708-9857-6336556b0fcc  \n",
              "2  566511c2-e2e3-422b-b695-cf8e6e792ca8  \n",
              "3  7c90fc70-0e80-4590-96f3-13c02c18c713  \n",
              "4  c6bd7419-2748-4c56-95b4-8cec9ff8b80d  "
            ]
          },
          "execution_count": 7,
          "metadata": {},
          "output_type": "execute_result"
        }
      ],
      "source": [
        "df.head()"
      ]
    },
    {
      "cell_type": "code",
      "execution_count": 8,
      "id": "5RhJPgTAVTTs",
      "metadata": {
        "colab": {
          "base_uri": "https://localhost:8080/"
        },
        "id": "5RhJPgTAVTTs",
        "outputId": "4396b7a0-0502-4572-cdbf-244cbe23a9e6"
      },
      "outputs": [
        {
          "data": {
            "text/plain": [
              "30220"
            ]
          },
          "execution_count": 8,
          "metadata": {},
          "output_type": "execute_result"
        }
      ],
      "source": [
        "df.duplicated().sum()"
      ]
    },
    {
      "cell_type": "code",
      "execution_count": 9,
      "id": "3uJu3ABdWBbA",
      "metadata": {
        "colab": {
          "base_uri": "https://localhost:8080/"
        },
        "id": "3uJu3ABdWBbA",
        "outputId": "cd43f031-9fe7-4275-f9d7-d0604e359d2f"
      },
      "outputs": [
        {
          "name": "stdout",
          "output_type": "stream",
          "text": [
            "view        40779399\n",
            "cart          926516\n",
            "purchase      742849\n",
            "Name: event_type, dtype: int64\n",
            "3\n"
          ]
        },
        {
          "data": {
            "text/plain": [
              "['view', 'purchase', 'cart']"
            ]
          },
          "execution_count": 9,
          "metadata": {},
          "output_type": "execute_result"
        }
      ],
      "source": [
        "print(df['event_type'].value_counts())\n",
        "print(df['event_type'].nunique())\n",
        "df['event_type'].unique().tolist()"
      ]
    },
    {
      "cell_type": "code",
      "execution_count": 10,
      "id": "8bQ5VoqKWK9z",
      "metadata": {
        "colab": {
          "base_uri": "https://localhost:8080/"
        },
        "id": "8bQ5VoqKWK9z",
        "outputId": "9341eb91-585a-44e8-ffd4-29e35c84e1ba"
      },
      "outputs": [
        {
          "name": "stdout",
          "output_type": "stream",
          "text": [
            "0\n"
          ]
        }
      ],
      "source": [
        "print(df['event_type'].isnull().sum())"
      ]
    },
    {
      "cell_type": "code",
      "execution_count": 11,
      "id": "9odlQIDjZiMM",
      "metadata": {
        "colab": {
          "base_uri": "https://localhost:8080/"
        },
        "id": "9odlQIDjZiMM",
        "outputId": "bb9d3709-7c87-4c7e-c4e2-cad9f61d7fe5"
      },
      "outputs": [
        {
          "name": "stdout",
          "output_type": "stream",
          "text": [
            "                event_time  product_id          category_id  \\\n",
            "0  2019-10-01 00:00:00 UTC    44600062  2103807459595387724   \n",
            "1  2019-10-01 00:00:00 UTC     3900821  2053013552326770905   \n",
            "2  2019-10-01 00:00:01 UTC    17200506  2053013559792632471   \n",
            "3  2019-10-01 00:00:01 UTC     1307067  2053013558920217191   \n",
            "4  2019-10-01 00:00:04 UTC     1004237  2053013555631882655   \n",
            "\n",
            "                         category_code     brand    price    user_id  \\\n",
            "0                                  NaN  shiseido    35.79  541312140   \n",
            "1  appliances.environment.water_heater      aqua    33.20  554748717   \n",
            "2           furniture.living_room.sofa       NaN   543.10  519107250   \n",
            "3                   computers.notebook    lenovo   251.74  550050854   \n",
            "4               electronics.smartphone     apple  1081.98  535871217   \n",
            "\n",
            "                           user_session  event_type_cart  event_type_purchase  \\\n",
            "0  72d76fde-8bb3-4e00-8c23-a032dfed738c                0                    0   \n",
            "1  9333dfbd-b87a-4708-9857-6336556b0fcc                0                    0   \n",
            "2  566511c2-e2e3-422b-b695-cf8e6e792ca8                0                    0   \n",
            "3  7c90fc70-0e80-4590-96f3-13c02c18c713                0                    0   \n",
            "4  c6bd7419-2748-4c56-95b4-8cec9ff8b80d                0                    0   \n",
            "\n",
            "   event_type_view  \n",
            "0                1  \n",
            "1                1  \n",
            "2                1  \n",
            "3                1  \n",
            "4                1  \n"
          ]
        }
      ],
      "source": [
        "import pandas as pd\n",
        "df = pd.get_dummies(df, columns=['event_type'], prefix='event_type')\n",
        "print(df.head())"
      ]
    },
    {
      "cell_type": "code",
      "execution_count": 12,
      "id": "lPPLBHvDZp9V",
      "metadata": {
        "colab": {
          "base_uri": "https://localhost:8080/",
          "height": 400
        },
        "id": "lPPLBHvDZp9V",
        "outputId": "ef4f0dce-89a2-4c99-d6f5-f461f766f977"
      },
      "outputs": [
        {
          "data": {
            "text/html": [
              "<div>\n",
              "<style scoped>\n",
              "    .dataframe tbody tr th:only-of-type {\n",
              "        vertical-align: middle;\n",
              "    }\n",
              "\n",
              "    .dataframe tbody tr th {\n",
              "        vertical-align: top;\n",
              "    }\n",
              "\n",
              "    .dataframe thead th {\n",
              "        text-align: right;\n",
              "    }\n",
              "</style>\n",
              "<table border=\"1\" class=\"dataframe\">\n",
              "  <thead>\n",
              "    <tr style=\"text-align: right;\">\n",
              "      <th></th>\n",
              "      <th>event_time</th>\n",
              "      <th>product_id</th>\n",
              "      <th>category_id</th>\n",
              "      <th>category_code</th>\n",
              "      <th>brand</th>\n",
              "      <th>price</th>\n",
              "      <th>user_id</th>\n",
              "      <th>user_session</th>\n",
              "      <th>event_type_cart</th>\n",
              "      <th>event_type_purchase</th>\n",
              "      <th>event_type_view</th>\n",
              "    </tr>\n",
              "  </thead>\n",
              "  <tbody>\n",
              "    <tr>\n",
              "      <th>0</th>\n",
              "      <td>2019-10-01 00:00:00 UTC</td>\n",
              "      <td>44600062</td>\n",
              "      <td>2103807459595387724</td>\n",
              "      <td>NaN</td>\n",
              "      <td>shiseido</td>\n",
              "      <td>35.79</td>\n",
              "      <td>541312140</td>\n",
              "      <td>72d76fde-8bb3-4e00-8c23-a032dfed738c</td>\n",
              "      <td>0</td>\n",
              "      <td>0</td>\n",
              "      <td>1</td>\n",
              "    </tr>\n",
              "    <tr>\n",
              "      <th>1</th>\n",
              "      <td>2019-10-01 00:00:00 UTC</td>\n",
              "      <td>3900821</td>\n",
              "      <td>2053013552326770905</td>\n",
              "      <td>appliances.environment.water_heater</td>\n",
              "      <td>aqua</td>\n",
              "      <td>33.20</td>\n",
              "      <td>554748717</td>\n",
              "      <td>9333dfbd-b87a-4708-9857-6336556b0fcc</td>\n",
              "      <td>0</td>\n",
              "      <td>0</td>\n",
              "      <td>1</td>\n",
              "    </tr>\n",
              "    <tr>\n",
              "      <th>2</th>\n",
              "      <td>2019-10-01 00:00:01 UTC</td>\n",
              "      <td>17200506</td>\n",
              "      <td>2053013559792632471</td>\n",
              "      <td>furniture.living_room.sofa</td>\n",
              "      <td>NaN</td>\n",
              "      <td>543.10</td>\n",
              "      <td>519107250</td>\n",
              "      <td>566511c2-e2e3-422b-b695-cf8e6e792ca8</td>\n",
              "      <td>0</td>\n",
              "      <td>0</td>\n",
              "      <td>1</td>\n",
              "    </tr>\n",
              "    <tr>\n",
              "      <th>3</th>\n",
              "      <td>2019-10-01 00:00:01 UTC</td>\n",
              "      <td>1307067</td>\n",
              "      <td>2053013558920217191</td>\n",
              "      <td>computers.notebook</td>\n",
              "      <td>lenovo</td>\n",
              "      <td>251.74</td>\n",
              "      <td>550050854</td>\n",
              "      <td>7c90fc70-0e80-4590-96f3-13c02c18c713</td>\n",
              "      <td>0</td>\n",
              "      <td>0</td>\n",
              "      <td>1</td>\n",
              "    </tr>\n",
              "    <tr>\n",
              "      <th>4</th>\n",
              "      <td>2019-10-01 00:00:04 UTC</td>\n",
              "      <td>1004237</td>\n",
              "      <td>2053013555631882655</td>\n",
              "      <td>electronics.smartphone</td>\n",
              "      <td>apple</td>\n",
              "      <td>1081.98</td>\n",
              "      <td>535871217</td>\n",
              "      <td>c6bd7419-2748-4c56-95b4-8cec9ff8b80d</td>\n",
              "      <td>0</td>\n",
              "      <td>0</td>\n",
              "      <td>1</td>\n",
              "    </tr>\n",
              "  </tbody>\n",
              "</table>\n",
              "</div>"
            ],
            "text/plain": [
              "                event_time  product_id          category_id  \\\n",
              "0  2019-10-01 00:00:00 UTC    44600062  2103807459595387724   \n",
              "1  2019-10-01 00:00:00 UTC     3900821  2053013552326770905   \n",
              "2  2019-10-01 00:00:01 UTC    17200506  2053013559792632471   \n",
              "3  2019-10-01 00:00:01 UTC     1307067  2053013558920217191   \n",
              "4  2019-10-01 00:00:04 UTC     1004237  2053013555631882655   \n",
              "\n",
              "                         category_code     brand    price    user_id  \\\n",
              "0                                  NaN  shiseido    35.79  541312140   \n",
              "1  appliances.environment.water_heater      aqua    33.20  554748717   \n",
              "2           furniture.living_room.sofa       NaN   543.10  519107250   \n",
              "3                   computers.notebook    lenovo   251.74  550050854   \n",
              "4               electronics.smartphone     apple  1081.98  535871217   \n",
              "\n",
              "                           user_session  event_type_cart  event_type_purchase  \\\n",
              "0  72d76fde-8bb3-4e00-8c23-a032dfed738c                0                    0   \n",
              "1  9333dfbd-b87a-4708-9857-6336556b0fcc                0                    0   \n",
              "2  566511c2-e2e3-422b-b695-cf8e6e792ca8                0                    0   \n",
              "3  7c90fc70-0e80-4590-96f3-13c02c18c713                0                    0   \n",
              "4  c6bd7419-2748-4c56-95b4-8cec9ff8b80d                0                    0   \n",
              "\n",
              "   event_type_view  \n",
              "0                1  \n",
              "1                1  \n",
              "2                1  \n",
              "3                1  \n",
              "4                1  "
            ]
          },
          "execution_count": 12,
          "metadata": {},
          "output_type": "execute_result"
        }
      ],
      "source": [
        "df.head()"
      ]
    },
    {
      "cell_type": "code",
      "execution_count": 13,
      "id": "bbvdIpJ1aIWS",
      "metadata": {
        "id": "bbvdIpJ1aIWS"
      },
      "outputs": [],
      "source": [
        "df[['event_type_cart', 'event_type_purchase', 'event_type_view']] = df[['event_type_cart', 'event_type_purchase', 'event_type_view']].astype(int)"
      ]
    },
    {
      "cell_type": "code",
      "execution_count": 14,
      "id": "qFh2J_cmaVB3",
      "metadata": {
        "colab": {
          "base_uri": "https://localhost:8080/",
          "height": 400
        },
        "id": "qFh2J_cmaVB3",
        "outputId": "9ba103dd-0b47-4a06-dc22-047de2327d50"
      },
      "outputs": [
        {
          "data": {
            "text/html": [
              "<div>\n",
              "<style scoped>\n",
              "    .dataframe tbody tr th:only-of-type {\n",
              "        vertical-align: middle;\n",
              "    }\n",
              "\n",
              "    .dataframe tbody tr th {\n",
              "        vertical-align: top;\n",
              "    }\n",
              "\n",
              "    .dataframe thead th {\n",
              "        text-align: right;\n",
              "    }\n",
              "</style>\n",
              "<table border=\"1\" class=\"dataframe\">\n",
              "  <thead>\n",
              "    <tr style=\"text-align: right;\">\n",
              "      <th></th>\n",
              "      <th>event_time</th>\n",
              "      <th>product_id</th>\n",
              "      <th>category_id</th>\n",
              "      <th>category_code</th>\n",
              "      <th>brand</th>\n",
              "      <th>price</th>\n",
              "      <th>user_id</th>\n",
              "      <th>user_session</th>\n",
              "      <th>event_type_cart</th>\n",
              "      <th>event_type_purchase</th>\n",
              "      <th>event_type_view</th>\n",
              "    </tr>\n",
              "  </thead>\n",
              "  <tbody>\n",
              "    <tr>\n",
              "      <th>0</th>\n",
              "      <td>2019-10-01 00:00:00 UTC</td>\n",
              "      <td>44600062</td>\n",
              "      <td>2103807459595387724</td>\n",
              "      <td>NaN</td>\n",
              "      <td>shiseido</td>\n",
              "      <td>35.79</td>\n",
              "      <td>541312140</td>\n",
              "      <td>72d76fde-8bb3-4e00-8c23-a032dfed738c</td>\n",
              "      <td>0</td>\n",
              "      <td>0</td>\n",
              "      <td>1</td>\n",
              "    </tr>\n",
              "    <tr>\n",
              "      <th>1</th>\n",
              "      <td>2019-10-01 00:00:00 UTC</td>\n",
              "      <td>3900821</td>\n",
              "      <td>2053013552326770905</td>\n",
              "      <td>appliances.environment.water_heater</td>\n",
              "      <td>aqua</td>\n",
              "      <td>33.20</td>\n",
              "      <td>554748717</td>\n",
              "      <td>9333dfbd-b87a-4708-9857-6336556b0fcc</td>\n",
              "      <td>0</td>\n",
              "      <td>0</td>\n",
              "      <td>1</td>\n",
              "    </tr>\n",
              "    <tr>\n",
              "      <th>2</th>\n",
              "      <td>2019-10-01 00:00:01 UTC</td>\n",
              "      <td>17200506</td>\n",
              "      <td>2053013559792632471</td>\n",
              "      <td>furniture.living_room.sofa</td>\n",
              "      <td>NaN</td>\n",
              "      <td>543.10</td>\n",
              "      <td>519107250</td>\n",
              "      <td>566511c2-e2e3-422b-b695-cf8e6e792ca8</td>\n",
              "      <td>0</td>\n",
              "      <td>0</td>\n",
              "      <td>1</td>\n",
              "    </tr>\n",
              "    <tr>\n",
              "      <th>3</th>\n",
              "      <td>2019-10-01 00:00:01 UTC</td>\n",
              "      <td>1307067</td>\n",
              "      <td>2053013558920217191</td>\n",
              "      <td>computers.notebook</td>\n",
              "      <td>lenovo</td>\n",
              "      <td>251.74</td>\n",
              "      <td>550050854</td>\n",
              "      <td>7c90fc70-0e80-4590-96f3-13c02c18c713</td>\n",
              "      <td>0</td>\n",
              "      <td>0</td>\n",
              "      <td>1</td>\n",
              "    </tr>\n",
              "    <tr>\n",
              "      <th>4</th>\n",
              "      <td>2019-10-01 00:00:04 UTC</td>\n",
              "      <td>1004237</td>\n",
              "      <td>2053013555631882655</td>\n",
              "      <td>electronics.smartphone</td>\n",
              "      <td>apple</td>\n",
              "      <td>1081.98</td>\n",
              "      <td>535871217</td>\n",
              "      <td>c6bd7419-2748-4c56-95b4-8cec9ff8b80d</td>\n",
              "      <td>0</td>\n",
              "      <td>0</td>\n",
              "      <td>1</td>\n",
              "    </tr>\n",
              "  </tbody>\n",
              "</table>\n",
              "</div>"
            ],
            "text/plain": [
              "                event_time  product_id          category_id  \\\n",
              "0  2019-10-01 00:00:00 UTC    44600062  2103807459595387724   \n",
              "1  2019-10-01 00:00:00 UTC     3900821  2053013552326770905   \n",
              "2  2019-10-01 00:00:01 UTC    17200506  2053013559792632471   \n",
              "3  2019-10-01 00:00:01 UTC     1307067  2053013558920217191   \n",
              "4  2019-10-01 00:00:04 UTC     1004237  2053013555631882655   \n",
              "\n",
              "                         category_code     brand    price    user_id  \\\n",
              "0                                  NaN  shiseido    35.79  541312140   \n",
              "1  appliances.environment.water_heater      aqua    33.20  554748717   \n",
              "2           furniture.living_room.sofa       NaN   543.10  519107250   \n",
              "3                   computers.notebook    lenovo   251.74  550050854   \n",
              "4               electronics.smartphone     apple  1081.98  535871217   \n",
              "\n",
              "                           user_session  event_type_cart  event_type_purchase  \\\n",
              "0  72d76fde-8bb3-4e00-8c23-a032dfed738c                0                    0   \n",
              "1  9333dfbd-b87a-4708-9857-6336556b0fcc                0                    0   \n",
              "2  566511c2-e2e3-422b-b695-cf8e6e792ca8                0                    0   \n",
              "3  7c90fc70-0e80-4590-96f3-13c02c18c713                0                    0   \n",
              "4  c6bd7419-2748-4c56-95b4-8cec9ff8b80d                0                    0   \n",
              "\n",
              "   event_type_view  \n",
              "0                1  \n",
              "1                1  \n",
              "2                1  \n",
              "3                1  \n",
              "4                1  "
            ]
          },
          "execution_count": 14,
          "metadata": {},
          "output_type": "execute_result"
        }
      ],
      "source": [
        "df.head()"
      ]
    },
    {
      "cell_type": "code",
      "execution_count": 15,
      "id": "u8Sp0QGsZ6at",
      "metadata": {
        "colab": {
          "base_uri": "https://localhost:8080/"
        },
        "id": "u8Sp0QGsZ6at",
        "outputId": "d73f4273-db52-464e-ff0e-6249d9fd78a6"
      },
      "outputs": [
        {
          "name": "stdout",
          "output_type": "stream",
          "text": [
            "samsung         5282775\n",
            "apple           4122554\n",
            "xiaomi          3083763\n",
            "huawei          1111205\n",
            "lucente          655861\n",
            "                 ...   \n",
            "nec                   1\n",
            "neocoregames          1\n",
            "incase                1\n",
            "portdesigns           1\n",
            "skindoctors           1\n",
            "Name: brand, Length: 3444, dtype: int64\n",
            "3444\n",
            "___\n",
            "electronics.smartphone          11507231\n",
            "electronics.clocks               1311033\n",
            "computers.notebook               1137623\n",
            "electronics.video.tv             1113750\n",
            "electronics.audio.headphone      1100188\n",
            "                                  ...   \n",
            "construction.tools.soldering         632\n",
            "apparel.shorts                       632\n",
            "apparel.jacket                       436\n",
            "auto.accessories.anti_freeze         308\n",
            "country_yard.furniture.bench         190\n",
            "Name: category_code, Length: 126, dtype: int64\n",
            "126\n"
          ]
        }
      ],
      "source": [
        "print(df['brand'].value_counts())\n",
        "print(df['brand'].nunique())\n",
        "print(\"___\")\n",
        "print(df['category_code'].value_counts())\n",
        "print(df['category_code'].nunique())"
      ]
    },
    {
      "cell_type": "code",
      "execution_count": 16,
      "id": "vg3LIuElb1HZ",
      "metadata": {
        "colab": {
          "base_uri": "https://localhost:8080/"
        },
        "id": "vg3LIuElb1HZ",
        "outputId": "e35ee834-5801-4e2a-f78d-01be597643df"
      },
      "outputs": [
        {
          "data": {
            "text/plain": [
              "6117080"
            ]
          },
          "execution_count": 16,
          "metadata": {},
          "output_type": "execute_result"
        }
      ],
      "source": [
        "df.brand.isnull().sum()"
      ]
    },
    {
      "cell_type": "code",
      "execution_count": 17,
      "id": "V8mAR4rAhQCK",
      "metadata": {
        "colab": {
          "base_uri": "https://localhost:8080/",
          "height": 429
        },
        "id": "V8mAR4rAhQCK",
        "outputId": "0c008fbf-c478-46ca-eb89-404020e85c1c"
      },
      "outputs": [
        {
          "data": {
            "text/plain": [
              "event_time                   0\n",
              "product_id                   0\n",
              "category_id                  0\n",
              "category_code                0\n",
              "brand                  6117080\n",
              "price                        0\n",
              "user_id                      0\n",
              "user_session                 2\n",
              "event_type_cart              0\n",
              "event_type_purchase          0\n",
              "event_type_view              0\n",
              "dtype: int64"
            ]
          },
          "execution_count": 17,
          "metadata": {},
          "output_type": "execute_result"
        }
      ],
      "source": [
        "df['category_code'] = df['category_code'].fillna(df['category_code'].mode()[0])\n",
        "df.isnull().sum()"
      ]
    },
    {
      "cell_type": "code",
      "execution_count": 19,
      "id": "8ecwjjphiMIs",
      "metadata": {
        "colab": {
          "base_uri": "https://localhost:8080/"
        },
        "id": "8ecwjjphiMIs",
        "outputId": "b45c5172-2260-467f-bdf5-3f993d61ab4c"
      },
      "outputs": [
        {
          "ename": "MemoryError",
          "evalue": "Unable to allocate 324. MiB for an array with shape (1, 42448764) and data type object",
          "output_type": "error",
          "traceback": [
            "\u001b[1;31m---------------------------------------------------------------------------\u001b[0m",
            "\u001b[1;31mMemoryError\u001b[0m                               Traceback (most recent call last)",
            "Cell \u001b[1;32mIn[19], line 2\u001b[0m\n\u001b[0;32m      1\u001b[0m encoder \u001b[38;5;241m=\u001b[39m ce\u001b[38;5;241m.\u001b[39mBinaryEncoder(cols\u001b[38;5;241m=\u001b[39m[\u001b[38;5;124m'\u001b[39m\u001b[38;5;124mcategory_code\u001b[39m\u001b[38;5;124m'\u001b[39m])\n\u001b[1;32m----> 2\u001b[0m df_encoded \u001b[38;5;241m=\u001b[39m \u001b[43mencoder\u001b[49m\u001b[38;5;241;43m.\u001b[39;49m\u001b[43mfit_transform\u001b[49m\u001b[43m(\u001b[49m\u001b[43mdf\u001b[49m\u001b[43m[\u001b[49m\u001b[43m[\u001b[49m\u001b[38;5;124;43m'\u001b[39;49m\u001b[38;5;124;43mcategory_code\u001b[39;49m\u001b[38;5;124;43m'\u001b[39;49m\u001b[43m]\u001b[49m\u001b[43m]\u001b[49m\u001b[43m)\u001b[49m\n\u001b[0;32m      3\u001b[0m df \u001b[38;5;241m=\u001b[39m pd\u001b[38;5;241m.\u001b[39mconcat([df, df_encoded], axis\u001b[38;5;241m=\u001b[39m\u001b[38;5;241m1\u001b[39m)\n\u001b[0;32m      4\u001b[0m \u001b[38;5;28mprint\u001b[39m(df\u001b[38;5;241m.\u001b[39mhead())\n",
            "File \u001b[1;32mc:\\Users\\yahia\\AppData\\Local\\Programs\\Python\\Python310\\lib\\site-packages\\sklearn\\utils\\_set_output.py:319\u001b[0m, in \u001b[0;36m_wrap_method_output.<locals>.wrapped\u001b[1;34m(self, X, *args, **kwargs)\u001b[0m\n\u001b[0;32m    317\u001b[0m \u001b[38;5;129m@wraps\u001b[39m(f)\n\u001b[0;32m    318\u001b[0m \u001b[38;5;28;01mdef\u001b[39;00m \u001b[38;5;21mwrapped\u001b[39m(\u001b[38;5;28mself\u001b[39m, X, \u001b[38;5;241m*\u001b[39margs, \u001b[38;5;241m*\u001b[39m\u001b[38;5;241m*\u001b[39mkwargs):\n\u001b[1;32m--> 319\u001b[0m     data_to_wrap \u001b[38;5;241m=\u001b[39m f(\u001b[38;5;28mself\u001b[39m, X, \u001b[38;5;241m*\u001b[39margs, \u001b[38;5;241m*\u001b[39m\u001b[38;5;241m*\u001b[39mkwargs)\n\u001b[0;32m    320\u001b[0m     \u001b[38;5;28;01mif\u001b[39;00m \u001b[38;5;28misinstance\u001b[39m(data_to_wrap, \u001b[38;5;28mtuple\u001b[39m):\n\u001b[0;32m    321\u001b[0m         \u001b[38;5;66;03m# only wrap the first output for cross decomposition\u001b[39;00m\n\u001b[0;32m    322\u001b[0m         return_tuple \u001b[38;5;241m=\u001b[39m (\n\u001b[0;32m    323\u001b[0m             _wrap_data_with_container(method, data_to_wrap[\u001b[38;5;241m0\u001b[39m], X, \u001b[38;5;28mself\u001b[39m),\n\u001b[0;32m    324\u001b[0m             \u001b[38;5;241m*\u001b[39mdata_to_wrap[\u001b[38;5;241m1\u001b[39m:],\n\u001b[0;32m    325\u001b[0m         )\n",
            "File \u001b[1;32mc:\\Users\\yahia\\AppData\\Local\\Programs\\Python\\Python310\\lib\\site-packages\\sklearn\\base.py:918\u001b[0m, in \u001b[0;36mTransformerMixin.fit_transform\u001b[1;34m(self, X, y, **fit_params)\u001b[0m\n\u001b[0;32m    903\u001b[0m         warnings\u001b[38;5;241m.\u001b[39mwarn(\n\u001b[0;32m    904\u001b[0m             (\n\u001b[0;32m    905\u001b[0m                 \u001b[38;5;124mf\u001b[39m\u001b[38;5;124m\"\u001b[39m\u001b[38;5;124mThis object (\u001b[39m\u001b[38;5;132;01m{\u001b[39;00m\u001b[38;5;28mself\u001b[39m\u001b[38;5;241m.\u001b[39m\u001b[38;5;18m__class__\u001b[39m\u001b[38;5;241m.\u001b[39m\u001b[38;5;18m__name__\u001b[39m\u001b[38;5;132;01m}\u001b[39;00m\u001b[38;5;124m) has a `transform`\u001b[39m\u001b[38;5;124m\"\u001b[39m\n\u001b[1;32m   (...)\u001b[0m\n\u001b[0;32m    913\u001b[0m             \u001b[38;5;167;01mUserWarning\u001b[39;00m,\n\u001b[0;32m    914\u001b[0m         )\n\u001b[0;32m    916\u001b[0m \u001b[38;5;28;01mif\u001b[39;00m y \u001b[38;5;129;01mis\u001b[39;00m \u001b[38;5;28;01mNone\u001b[39;00m:\n\u001b[0;32m    917\u001b[0m     \u001b[38;5;66;03m# fit method of arity 1 (unsupervised transformation)\u001b[39;00m\n\u001b[1;32m--> 918\u001b[0m     \u001b[38;5;28;01mreturn\u001b[39;00m \u001b[38;5;28mself\u001b[39m\u001b[38;5;241m.\u001b[39mfit(X, \u001b[38;5;241m*\u001b[39m\u001b[38;5;241m*\u001b[39mfit_params)\u001b[38;5;241m.\u001b[39mtransform(X)\n\u001b[0;32m    919\u001b[0m \u001b[38;5;28;01melse\u001b[39;00m:\n\u001b[0;32m    920\u001b[0m     \u001b[38;5;66;03m# fit method of arity 2 (supervised transformation)\u001b[39;00m\n\u001b[0;32m    921\u001b[0m     \u001b[38;5;28;01mreturn\u001b[39;00m \u001b[38;5;28mself\u001b[39m\u001b[38;5;241m.\u001b[39mfit(X, y, \u001b[38;5;241m*\u001b[39m\u001b[38;5;241m*\u001b[39mfit_params)\u001b[38;5;241m.\u001b[39mtransform(X)\n",
            "File \u001b[1;32mc:\\Users\\yahia\\AppData\\Local\\Programs\\Python\\Python310\\lib\\site-packages\\category_encoders\\utils.py:474\u001b[0m, in \u001b[0;36mBaseEncoder.fit\u001b[1;34m(self, X, y, **kwargs)\u001b[0m\n\u001b[0;32m    471\u001b[0m     \u001b[38;5;28;01mif\u001b[39;00m X[\u001b[38;5;28mself\u001b[39m\u001b[38;5;241m.\u001b[39mcols]\u001b[38;5;241m.\u001b[39misna()\u001b[38;5;241m.\u001b[39many()\u001b[38;5;241m.\u001b[39many():\n\u001b[0;32m    472\u001b[0m         \u001b[38;5;28;01mraise\u001b[39;00m \u001b[38;5;167;01mValueError\u001b[39;00m(\u001b[38;5;124m'\u001b[39m\u001b[38;5;124mColumns to be encoded can not contain null\u001b[39m\u001b[38;5;124m'\u001b[39m)\n\u001b[1;32m--> 474\u001b[0m \u001b[38;5;28mself\u001b[39m\u001b[38;5;241m.\u001b[39m_fit(X, y, \u001b[38;5;241m*\u001b[39m\u001b[38;5;241m*\u001b[39mkwargs)\n\u001b[0;32m    476\u001b[0m \u001b[38;5;66;03m# for finding invariant columns transform without y (as is done on the test set)\u001b[39;00m\n\u001b[0;32m    477\u001b[0m \u001b[38;5;28mself\u001b[39m\u001b[38;5;241m.\u001b[39mfeature_names_out_ \u001b[38;5;241m=\u001b[39m \u001b[38;5;28;01mNone\u001b[39;00m  \u001b[38;5;66;03m# Issue#437\u001b[39;00m\n",
            "File \u001b[1;32mc:\\Users\\yahia\\AppData\\Local\\Programs\\Python\\Python310\\lib\\site-packages\\category_encoders\\basen.py:139\u001b[0m, in \u001b[0;36mBaseNEncoder._fit\u001b[1;34m(self, X, y, **kwargs)\u001b[0m\n\u001b[0;32m    134\u001b[0m \u001b[38;5;28;01mdef\u001b[39;00m \u001b[38;5;21m_fit\u001b[39m(\u001b[38;5;28mself\u001b[39m, X, y\u001b[38;5;241m=\u001b[39m\u001b[38;5;28;01mNone\u001b[39;00m, \u001b[38;5;241m*\u001b[39m\u001b[38;5;241m*\u001b[39mkwargs):\n\u001b[0;32m    135\u001b[0m     \u001b[38;5;66;03m# train an ordinal pre-encoder\u001b[39;00m\n\u001b[0;32m    136\u001b[0m     \u001b[38;5;28mself\u001b[39m\u001b[38;5;241m.\u001b[39mordinal_encoder \u001b[38;5;241m=\u001b[39m OrdinalEncoder(\n\u001b[0;32m    137\u001b[0m         verbose\u001b[38;5;241m=\u001b[39m\u001b[38;5;28mself\u001b[39m\u001b[38;5;241m.\u001b[39mverbose, cols\u001b[38;5;241m=\u001b[39m\u001b[38;5;28mself\u001b[39m\u001b[38;5;241m.\u001b[39mcols, handle_unknown\u001b[38;5;241m=\u001b[39m\u001b[38;5;124m'\u001b[39m\u001b[38;5;124mvalue\u001b[39m\u001b[38;5;124m'\u001b[39m, handle_missing\u001b[38;5;241m=\u001b[39m\u001b[38;5;124m'\u001b[39m\u001b[38;5;124mvalue\u001b[39m\u001b[38;5;124m'\u001b[39m\n\u001b[0;32m    138\u001b[0m     )\n\u001b[1;32m--> 139\u001b[0m     \u001b[38;5;28mself\u001b[39m\u001b[38;5;241m.\u001b[39mordinal_encoder \u001b[38;5;241m=\u001b[39m \u001b[38;5;28;43mself\u001b[39;49m\u001b[38;5;241;43m.\u001b[39;49m\u001b[43mordinal_encoder\u001b[49m\u001b[38;5;241;43m.\u001b[39;49m\u001b[43mfit\u001b[49m\u001b[43m(\u001b[49m\u001b[43mX\u001b[49m\u001b[43m)\u001b[49m\n\u001b[0;32m    141\u001b[0m     \u001b[38;5;28mself\u001b[39m\u001b[38;5;241m.\u001b[39mmapping \u001b[38;5;241m=\u001b[39m \u001b[38;5;28mself\u001b[39m\u001b[38;5;241m.\u001b[39mfit_base_n_encoding()\n",
            "File \u001b[1;32mc:\\Users\\yahia\\AppData\\Local\\Programs\\Python\\Python310\\lib\\site-packages\\category_encoders\\utils.py:474\u001b[0m, in \u001b[0;36mBaseEncoder.fit\u001b[1;34m(self, X, y, **kwargs)\u001b[0m\n\u001b[0;32m    471\u001b[0m     \u001b[38;5;28;01mif\u001b[39;00m X[\u001b[38;5;28mself\u001b[39m\u001b[38;5;241m.\u001b[39mcols]\u001b[38;5;241m.\u001b[39misna()\u001b[38;5;241m.\u001b[39many()\u001b[38;5;241m.\u001b[39many():\n\u001b[0;32m    472\u001b[0m         \u001b[38;5;28;01mraise\u001b[39;00m \u001b[38;5;167;01mValueError\u001b[39;00m(\u001b[38;5;124m'\u001b[39m\u001b[38;5;124mColumns to be encoded can not contain null\u001b[39m\u001b[38;5;124m'\u001b[39m)\n\u001b[1;32m--> 474\u001b[0m \u001b[38;5;28mself\u001b[39m\u001b[38;5;241m.\u001b[39m_fit(X, y, \u001b[38;5;241m*\u001b[39m\u001b[38;5;241m*\u001b[39mkwargs)\n\u001b[0;32m    476\u001b[0m \u001b[38;5;66;03m# for finding invariant columns transform without y (as is done on the test set)\u001b[39;00m\n\u001b[0;32m    477\u001b[0m \u001b[38;5;28mself\u001b[39m\u001b[38;5;241m.\u001b[39mfeature_names_out_ \u001b[38;5;241m=\u001b[39m \u001b[38;5;28;01mNone\u001b[39;00m  \u001b[38;5;66;03m# Issue#437\u001b[39;00m\n",
            "File \u001b[1;32mc:\\Users\\yahia\\AppData\\Local\\Programs\\Python\\Python310\\lib\\site-packages\\category_encoders\\ordinal.py:133\u001b[0m, in \u001b[0;36mOrdinalEncoder._fit\u001b[1;34m(self, X, y, **kwargs)\u001b[0m\n\u001b[0;32m    131\u001b[0m \u001b[38;5;28;01mif\u001b[39;00m \u001b[38;5;129;01mnot\u001b[39;00m \u001b[38;5;28mself\u001b[39m\u001b[38;5;241m.\u001b[39mmapping_supplied:\n\u001b[0;32m    132\u001b[0m     \u001b[38;5;28mself\u001b[39m\u001b[38;5;241m.\u001b[39mmapping \u001b[38;5;241m=\u001b[39m \u001b[38;5;28;01mNone\u001b[39;00m\n\u001b[1;32m--> 133\u001b[0m _, categories \u001b[38;5;241m=\u001b[39m \u001b[38;5;28;43mself\u001b[39;49m\u001b[38;5;241;43m.\u001b[39;49m\u001b[43mordinal_encoding\u001b[49m\u001b[43m(\u001b[49m\n\u001b[0;32m    134\u001b[0m \u001b[43m    \u001b[49m\u001b[43mX\u001b[49m\u001b[43m,\u001b[49m\n\u001b[0;32m    135\u001b[0m \u001b[43m    \u001b[49m\u001b[43mmapping\u001b[49m\u001b[38;5;241;43m=\u001b[39;49m\u001b[38;5;28;43mself\u001b[39;49m\u001b[38;5;241;43m.\u001b[39;49m\u001b[43mmapping\u001b[49m\u001b[43m,\u001b[49m\n\u001b[0;32m    136\u001b[0m \u001b[43m    \u001b[49m\u001b[43mcols\u001b[49m\u001b[38;5;241;43m=\u001b[39;49m\u001b[38;5;28;43mself\u001b[39;49m\u001b[38;5;241;43m.\u001b[39;49m\u001b[43mcols\u001b[49m\u001b[43m,\u001b[49m\n\u001b[0;32m    137\u001b[0m \u001b[43m    \u001b[49m\u001b[43mhandle_unknown\u001b[49m\u001b[38;5;241;43m=\u001b[39;49m\u001b[38;5;28;43mself\u001b[39;49m\u001b[38;5;241;43m.\u001b[39;49m\u001b[43mhandle_unknown\u001b[49m\u001b[43m,\u001b[49m\n\u001b[0;32m    138\u001b[0m \u001b[43m    \u001b[49m\u001b[43mhandle_missing\u001b[49m\u001b[38;5;241;43m=\u001b[39;49m\u001b[38;5;28;43mself\u001b[39;49m\u001b[38;5;241;43m.\u001b[39;49m\u001b[43mhandle_missing\u001b[49m\u001b[43m,\u001b[49m\n\u001b[0;32m    139\u001b[0m \u001b[43m\u001b[49m\u001b[43m)\u001b[49m\n\u001b[0;32m    140\u001b[0m \u001b[38;5;28mself\u001b[39m\u001b[38;5;241m.\u001b[39mmapping \u001b[38;5;241m=\u001b[39m categories\n",
            "File \u001b[1;32mc:\\Users\\yahia\\AppData\\Local\\Programs\\Python\\Python310\\lib\\site-packages\\category_encoders\\ordinal.py:230\u001b[0m, in \u001b[0;36mOrdinalEncoder.ordinal_encoding\u001b[1;34m(X_in, mapping, cols, handle_unknown, handle_missing)\u001b[0m\n\u001b[0;32m    221\u001b[0m \u001b[38;5;250m\u001b[39m\u001b[38;5;124;03m\"\"\"Ordinal encoding uses a single column of integers to represent the classes.\u001b[39;00m\n\u001b[0;32m    222\u001b[0m \n\u001b[0;32m    223\u001b[0m \u001b[38;5;124;03mAn optional mapping dict can be passed in, in this case we use the knowledge that there\u001b[39;00m\n\u001b[1;32m   (...)\u001b[0m\n\u001b[0;32m    226\u001b[0m \u001b[38;5;124;03mat random.\u001b[39;00m\n\u001b[0;32m    227\u001b[0m \u001b[38;5;124;03m\"\"\"\u001b[39;00m\n\u001b[0;32m    228\u001b[0m return_nan_series \u001b[38;5;241m=\u001b[39m pd\u001b[38;5;241m.\u001b[39mSeries(data\u001b[38;5;241m=\u001b[39m[np\u001b[38;5;241m.\u001b[39mnan], index\u001b[38;5;241m=\u001b[39m[\u001b[38;5;241m-\u001b[39m\u001b[38;5;241m2\u001b[39m])\n\u001b[1;32m--> 230\u001b[0m X \u001b[38;5;241m=\u001b[39m \u001b[43mX_in\u001b[49m\u001b[38;5;241;43m.\u001b[39;49m\u001b[43mcopy\u001b[49m\u001b[43m(\u001b[49m\u001b[43mdeep\u001b[49m\u001b[38;5;241;43m=\u001b[39;49m\u001b[38;5;28;43;01mTrue\u001b[39;49;00m\u001b[43m)\u001b[49m\n\u001b[0;32m    232\u001b[0m \u001b[38;5;28;01mif\u001b[39;00m cols \u001b[38;5;129;01mis\u001b[39;00m \u001b[38;5;28;01mNone\u001b[39;00m:\n\u001b[0;32m    233\u001b[0m     cols \u001b[38;5;241m=\u001b[39m X\u001b[38;5;241m.\u001b[39mcolumns\n",
            "File \u001b[1;32mc:\\Users\\yahia\\AppData\\Local\\Programs\\Python\\Python310\\lib\\site-packages\\pandas\\core\\generic.py:6368\u001b[0m, in \u001b[0;36mcopy\u001b[1;34m(self, deep)\u001b[0m\n\u001b[0;32m   6366\u001b[0m result \u001b[38;5;241m=\u001b[39m f()\n\u001b[0;32m   6367\u001b[0m \u001b[38;5;28;01mif\u001b[39;00m \u001b[38;5;28mlen\u001b[39m(\u001b[38;5;28mself\u001b[39m\u001b[38;5;241m.\u001b[39m_mgr\u001b[38;5;241m.\u001b[39mblocks) \u001b[38;5;241m!=\u001b[39m blocks_before:\n\u001b[1;32m-> 6368\u001b[0m     \u001b[38;5;28mself\u001b[39m\u001b[38;5;241m.\u001b[39m_clear_item_cache()\n\u001b[0;32m   6369\u001b[0m \u001b[38;5;28;01mreturn\u001b[39;00m result\n",
            "File \u001b[1;32mc:\\Users\\yahia\\AppData\\Local\\Programs\\Python\\Python310\\lib\\site-packages\\pandas\\core\\internals\\managers.py:649\u001b[0m, in \u001b[0;36mcopy\u001b[1;34m(self, deep)\u001b[0m\n\u001b[0;32m    623\u001b[0m \u001b[38;5;28;01mdef\u001b[39;00m \u001b[38;5;21mreindex_indexer\u001b[39m(\n\u001b[0;32m    624\u001b[0m     \u001b[38;5;28mself\u001b[39m,\n\u001b[0;32m    625\u001b[0m     new_axis: Index,\n\u001b[1;32m   (...)\u001b[0m\n\u001b[0;32m    633\u001b[0m     use_na_proxy: \u001b[38;5;28mbool\u001b[39m \u001b[38;5;241m=\u001b[39m \u001b[38;5;28;01mFalse\u001b[39;00m,\n\u001b[0;32m    634\u001b[0m ) \u001b[38;5;241m-\u001b[39m\u001b[38;5;241m>\u001b[39m Self:\n\u001b[0;32m    635\u001b[0m \u001b[38;5;250m    \u001b[39m\u001b[38;5;124;03m\"\"\"\u001b[39;00m\n\u001b[0;32m    636\u001b[0m \u001b[38;5;124;03m    Parameters\u001b[39;00m\n\u001b[0;32m    637\u001b[0m \u001b[38;5;124;03m    ----------\u001b[39;00m\n\u001b[0;32m    638\u001b[0m \u001b[38;5;124;03m    new_axis : Index\u001b[39;00m\n\u001b[0;32m    639\u001b[0m \u001b[38;5;124;03m    indexer : ndarray[intp] or None\u001b[39;00m\n\u001b[0;32m    640\u001b[0m \u001b[38;5;124;03m    axis : int\u001b[39;00m\n\u001b[0;32m    641\u001b[0m \u001b[38;5;124;03m    fill_value : object, default None\u001b[39;00m\n\u001b[0;32m    642\u001b[0m \u001b[38;5;124;03m    allow_dups : bool, default False\u001b[39;00m\n\u001b[0;32m    643\u001b[0m \u001b[38;5;124;03m    copy : bool or None, default True\u001b[39;00m\n\u001b[0;32m    644\u001b[0m \u001b[38;5;124;03m        If None, regard as False to get shallow copy.\u001b[39;00m\n\u001b[0;32m    645\u001b[0m \u001b[38;5;124;03m    only_slice : bool, default False\u001b[39;00m\n\u001b[0;32m    646\u001b[0m \u001b[38;5;124;03m        Whether to take views, not copies, along columns.\u001b[39;00m\n\u001b[0;32m    647\u001b[0m \u001b[38;5;124;03m    use_na_proxy : bool, default False\u001b[39;00m\n\u001b[0;32m    648\u001b[0m \u001b[38;5;124;03m        Whether to use a np.void ndarray for newly introduced columns.\u001b[39;00m\n\u001b[1;32m--> 649\u001b[0m \n\u001b[0;32m    650\u001b[0m \u001b[38;5;124;03m    pandas-indexer with -1's only.\u001b[39;00m\n\u001b[0;32m    651\u001b[0m \u001b[38;5;124;03m    \"\"\"\u001b[39;00m\n\u001b[0;32m    652\u001b[0m     \u001b[38;5;28;01mif\u001b[39;00m copy \u001b[38;5;129;01mis\u001b[39;00m \u001b[38;5;28;01mNone\u001b[39;00m:\n\u001b[0;32m    653\u001b[0m         \u001b[38;5;28;01mif\u001b[39;00m using_copy_on_write():\n\u001b[0;32m    654\u001b[0m             \u001b[38;5;66;03m# use shallow copy\u001b[39;00m\n",
            "File \u001b[1;32mc:\\Users\\yahia\\AppData\\Local\\Programs\\Python\\Python310\\lib\\site-packages\\pandas\\core\\internals\\managers.py:352\u001b[0m, in \u001b[0;36mBaseBlockManager.apply\u001b[1;34m(self, f, align_keys, ignore_failures, **kwargs)\u001b[0m\n\u001b[0;32m    350\u001b[0m         applied \u001b[38;5;241m=\u001b[39m b\u001b[38;5;241m.\u001b[39mapply(f, \u001b[38;5;241m*\u001b[39m\u001b[38;5;241m*\u001b[39mkwargs)\n\u001b[0;32m    351\u001b[0m     \u001b[38;5;28;01melse\u001b[39;00m:\n\u001b[1;32m--> 352\u001b[0m         applied \u001b[38;5;241m=\u001b[39m \u001b[38;5;28mgetattr\u001b[39m(b, f)(\u001b[38;5;241m*\u001b[39m\u001b[38;5;241m*\u001b[39mkwargs)\n\u001b[0;32m    353\u001b[0m \u001b[38;5;28;01mexcept\u001b[39;00m (\u001b[38;5;167;01mTypeError\u001b[39;00m, \u001b[38;5;167;01mNotImplementedError\u001b[39;00m):\n\u001b[0;32m    354\u001b[0m     \u001b[38;5;28;01mif\u001b[39;00m \u001b[38;5;129;01mnot\u001b[39;00m ignore_failures:\n",
            "File \u001b[1;32mc:\\Users\\yahia\\AppData\\Local\\Programs\\Python\\Python310\\lib\\site-packages\\pandas\\core\\internals\\blocks.py:549\u001b[0m, in \u001b[0;36mcopy\u001b[1;34m(self, deep)\u001b[0m\n\u001b[0;32m    541\u001b[0m if downcast is False:\n\u001b[0;32m    542\u001b[0m     return blocks\n\u001b[0;32m    544\u001b[0m if self.dtype == _dtype_obj:\n\u001b[0;32m    545\u001b[0m     # TODO: does it matter that self.dtype might not match blocks[i].dtype?\n\u001b[0;32m    546\u001b[0m     # GH#44241 We downcast regardless of the argument;\n\u001b[0;32m    547\u001b[0m     #  respecting 'downcast=None' may be worthwhile at some point,\n\u001b[0;32m    548\u001b[0m     #  but ATM it breaks too much existing code.\n\u001b[1;32m--> 549\u001b[0m     # split and convert the blocks\n\u001b[0;32m    551\u001b[0m     if caller == \"fillna\" and get_option(\"future.no_silent_downcasting\"):\n\u001b[0;32m    552\u001b[0m         return blocks\n",
            "\u001b[1;31mMemoryError\u001b[0m: Unable to allocate 324. MiB for an array with shape (1, 42448764) and data type object"
          ]
        }
      ],
      "source": [
        "encoder = ce.BinaryEncoder(cols=['category_code'])\n",
        "df_encoded = encoder.fit_transform(df[['category_code']])\n",
        "df = pd.concat([df, df_encoded], axis=1)\n",
        "print(df.head())"
      ]
    },
    {
      "cell_type": "code",
      "execution_count": 19,
      "id": "CNxhxwIkhYFd",
      "metadata": {
        "colab": {
          "base_uri": "https://localhost:8080/",
          "height": 400
        },
        "id": "CNxhxwIkhYFd",
        "outputId": "d37a5559-1b5b-4275-f260-d067df1e1bee"
      },
      "outputs": [
        {
          "data": {
            "text/html": [
              "<div>\n",
              "<style scoped>\n",
              "    .dataframe tbody tr th:only-of-type {\n",
              "        vertical-align: middle;\n",
              "    }\n",
              "\n",
              "    .dataframe tbody tr th {\n",
              "        vertical-align: top;\n",
              "    }\n",
              "\n",
              "    .dataframe thead th {\n",
              "        text-align: right;\n",
              "    }\n",
              "</style>\n",
              "<table border=\"1\" class=\"dataframe\">\n",
              "  <thead>\n",
              "    <tr style=\"text-align: right;\">\n",
              "      <th></th>\n",
              "      <th>event_time</th>\n",
              "      <th>product_id</th>\n",
              "      <th>category_id</th>\n",
              "      <th>category_code</th>\n",
              "      <th>brand</th>\n",
              "      <th>price</th>\n",
              "      <th>user_id</th>\n",
              "      <th>user_session</th>\n",
              "      <th>event_type_cart</th>\n",
              "      <th>event_type_purchase</th>\n",
              "      <th>event_type_view</th>\n",
              "      <th>category_code_0</th>\n",
              "      <th>category_code_1</th>\n",
              "      <th>category_code_2</th>\n",
              "      <th>category_code_3</th>\n",
              "      <th>category_code_4</th>\n",
              "      <th>category_code_5</th>\n",
              "      <th>category_code_6</th>\n",
              "    </tr>\n",
              "  </thead>\n",
              "  <tbody>\n",
              "    <tr>\n",
              "      <th>0</th>\n",
              "      <td>2019-10-01 00:00:00 UTC</td>\n",
              "      <td>44600062</td>\n",
              "      <td>2103807459595387724</td>\n",
              "      <td>electronics.smartphone</td>\n",
              "      <td>shiseido</td>\n",
              "      <td>35.79</td>\n",
              "      <td>541312140</td>\n",
              "      <td>72d76fde-8bb3-4e00-8c23-a032dfed738c</td>\n",
              "      <td>0</td>\n",
              "      <td>0</td>\n",
              "      <td>1</td>\n",
              "      <td>0</td>\n",
              "      <td>0</td>\n",
              "      <td>0</td>\n",
              "      <td>0</td>\n",
              "      <td>0</td>\n",
              "      <td>0</td>\n",
              "      <td>1</td>\n",
              "    </tr>\n",
              "    <tr>\n",
              "      <th>1</th>\n",
              "      <td>2019-10-01 00:00:00 UTC</td>\n",
              "      <td>3900821</td>\n",
              "      <td>2053013552326770905</td>\n",
              "      <td>appliances.environment.water_heater</td>\n",
              "      <td>aqua</td>\n",
              "      <td>33.20</td>\n",
              "      <td>554748717</td>\n",
              "      <td>9333dfbd-b87a-4708-9857-6336556b0fcc</td>\n",
              "      <td>0</td>\n",
              "      <td>0</td>\n",
              "      <td>1</td>\n",
              "      <td>0</td>\n",
              "      <td>0</td>\n",
              "      <td>0</td>\n",
              "      <td>0</td>\n",
              "      <td>0</td>\n",
              "      <td>1</td>\n",
              "      <td>0</td>\n",
              "    </tr>\n",
              "    <tr>\n",
              "      <th>2</th>\n",
              "      <td>2019-10-01 00:00:01 UTC</td>\n",
              "      <td>17200506</td>\n",
              "      <td>2053013559792632471</td>\n",
              "      <td>furniture.living_room.sofa</td>\n",
              "      <td>NaN</td>\n",
              "      <td>543.10</td>\n",
              "      <td>519107250</td>\n",
              "      <td>566511c2-e2e3-422b-b695-cf8e6e792ca8</td>\n",
              "      <td>0</td>\n",
              "      <td>0</td>\n",
              "      <td>1</td>\n",
              "      <td>0</td>\n",
              "      <td>0</td>\n",
              "      <td>0</td>\n",
              "      <td>0</td>\n",
              "      <td>0</td>\n",
              "      <td>1</td>\n",
              "      <td>1</td>\n",
              "    </tr>\n",
              "    <tr>\n",
              "      <th>3</th>\n",
              "      <td>2019-10-01 00:00:01 UTC</td>\n",
              "      <td>1307067</td>\n",
              "      <td>2053013558920217191</td>\n",
              "      <td>computers.notebook</td>\n",
              "      <td>lenovo</td>\n",
              "      <td>251.74</td>\n",
              "      <td>550050854</td>\n",
              "      <td>7c90fc70-0e80-4590-96f3-13c02c18c713</td>\n",
              "      <td>0</td>\n",
              "      <td>0</td>\n",
              "      <td>1</td>\n",
              "      <td>0</td>\n",
              "      <td>0</td>\n",
              "      <td>0</td>\n",
              "      <td>0</td>\n",
              "      <td>1</td>\n",
              "      <td>0</td>\n",
              "      <td>0</td>\n",
              "    </tr>\n",
              "    <tr>\n",
              "      <th>4</th>\n",
              "      <td>2019-10-01 00:00:04 UTC</td>\n",
              "      <td>1004237</td>\n",
              "      <td>2053013555631882655</td>\n",
              "      <td>electronics.smartphone</td>\n",
              "      <td>apple</td>\n",
              "      <td>1081.98</td>\n",
              "      <td>535871217</td>\n",
              "      <td>c6bd7419-2748-4c56-95b4-8cec9ff8b80d</td>\n",
              "      <td>0</td>\n",
              "      <td>0</td>\n",
              "      <td>1</td>\n",
              "      <td>0</td>\n",
              "      <td>0</td>\n",
              "      <td>0</td>\n",
              "      <td>0</td>\n",
              "      <td>0</td>\n",
              "      <td>0</td>\n",
              "      <td>1</td>\n",
              "    </tr>\n",
              "  </tbody>\n",
              "</table>\n",
              "</div>"
            ],
            "text/plain": [
              "                event_time  product_id          category_id  \\\n",
              "0  2019-10-01 00:00:00 UTC    44600062  2103807459595387724   \n",
              "1  2019-10-01 00:00:00 UTC     3900821  2053013552326770905   \n",
              "2  2019-10-01 00:00:01 UTC    17200506  2053013559792632471   \n",
              "3  2019-10-01 00:00:01 UTC     1307067  2053013558920217191   \n",
              "4  2019-10-01 00:00:04 UTC     1004237  2053013555631882655   \n",
              "\n",
              "                         category_code     brand    price    user_id  \\\n",
              "0               electronics.smartphone  shiseido    35.79  541312140   \n",
              "1  appliances.environment.water_heater      aqua    33.20  554748717   \n",
              "2           furniture.living_room.sofa       NaN   543.10  519107250   \n",
              "3                   computers.notebook    lenovo   251.74  550050854   \n",
              "4               electronics.smartphone     apple  1081.98  535871217   \n",
              "\n",
              "                           user_session  event_type_cart  event_type_purchase  \\\n",
              "0  72d76fde-8bb3-4e00-8c23-a032dfed738c                0                    0   \n",
              "1  9333dfbd-b87a-4708-9857-6336556b0fcc                0                    0   \n",
              "2  566511c2-e2e3-422b-b695-cf8e6e792ca8                0                    0   \n",
              "3  7c90fc70-0e80-4590-96f3-13c02c18c713                0                    0   \n",
              "4  c6bd7419-2748-4c56-95b4-8cec9ff8b80d                0                    0   \n",
              "\n",
              "   event_type_view  category_code_0  category_code_1  category_code_2  \\\n",
              "0                1                0                0                0   \n",
              "1                1                0                0                0   \n",
              "2                1                0                0                0   \n",
              "3                1                0                0                0   \n",
              "4                1                0                0                0   \n",
              "\n",
              "   category_code_3  category_code_4  category_code_5  category_code_6  \n",
              "0                0                0                0                1  \n",
              "1                0                0                1                0  \n",
              "2                0                0                1                1  \n",
              "3                0                1                0                0  \n",
              "4                0                0                0                1  "
            ]
          },
          "execution_count": 19,
          "metadata": {},
          "output_type": "execute_result"
        }
      ],
      "source": [
        "df.head()"
      ]
    },
    {
      "cell_type": "code",
      "execution_count": 20,
      "id": "SAR9zUXojQFf",
      "metadata": {
        "colab": {
          "base_uri": "https://localhost:8080/",
          "height": 649
        },
        "id": "SAR9zUXojQFf",
        "outputId": "0934e2bf-997d-4f5c-f805-40d107657f55"
      },
      "outputs": [
        {
          "data": {
            "text/plain": [
              "event_time             0\n",
              "product_id             0\n",
              "category_id            0\n",
              "category_code          0\n",
              "brand                  0\n",
              "price                  0\n",
              "user_id                0\n",
              "user_session           2\n",
              "event_type_cart        0\n",
              "event_type_purchase    0\n",
              "event_type_view        0\n",
              "category_code_0        0\n",
              "category_code_1        0\n",
              "category_code_2        0\n",
              "category_code_3        0\n",
              "category_code_4        0\n",
              "category_code_5        0\n",
              "category_code_6        0\n",
              "dtype: int64"
            ]
          },
          "execution_count": 20,
          "metadata": {},
          "output_type": "execute_result"
        }
      ],
      "source": [
        "df['brand'] = df['brand'].fillna(df['brand'].mode()[0])\n",
        "df.isnull().sum()"
      ]
    },
    {
      "cell_type": "code",
      "execution_count": 21,
      "id": "APhjSmdBjVBK",
      "metadata": {
        "id": "APhjSmdBjVBK"
      },
      "outputs": [],
      "source": [
        "encoder = ce.BinaryEncoder(cols=['brand'])\n",
        "df_encoded = encoder.fit_transform(df['brand'])\n",
        "df = pd.concat([df, df_encoded], axis=1)"
      ]
    },
    {
      "cell_type": "code",
      "execution_count": 22,
      "id": "-4dptuG5jcdM",
      "metadata": {
        "colab": {
          "base_uri": "https://localhost:8080/",
          "height": 429
        },
        "id": "-4dptuG5jcdM",
        "outputId": "3a8e698b-a0f1-46ca-a5f0-571264a54858"
      },
      "outputs": [
        {
          "data": {
            "text/html": [
              "<div>\n",
              "<style scoped>\n",
              "    .dataframe tbody tr th:only-of-type {\n",
              "        vertical-align: middle;\n",
              "    }\n",
              "\n",
              "    .dataframe tbody tr th {\n",
              "        vertical-align: top;\n",
              "    }\n",
              "\n",
              "    .dataframe thead th {\n",
              "        text-align: right;\n",
              "    }\n",
              "</style>\n",
              "<table border=\"1\" class=\"dataframe\">\n",
              "  <thead>\n",
              "    <tr style=\"text-align: right;\">\n",
              "      <th></th>\n",
              "      <th>event_time</th>\n",
              "      <th>product_id</th>\n",
              "      <th>category_id</th>\n",
              "      <th>category_code</th>\n",
              "      <th>brand</th>\n",
              "      <th>price</th>\n",
              "      <th>user_id</th>\n",
              "      <th>user_session</th>\n",
              "      <th>event_type_cart</th>\n",
              "      <th>event_type_purchase</th>\n",
              "      <th>...</th>\n",
              "      <th>brand_2</th>\n",
              "      <th>brand_3</th>\n",
              "      <th>brand_4</th>\n",
              "      <th>brand_5</th>\n",
              "      <th>brand_6</th>\n",
              "      <th>brand_7</th>\n",
              "      <th>brand_8</th>\n",
              "      <th>brand_9</th>\n",
              "      <th>brand_10</th>\n",
              "      <th>brand_11</th>\n",
              "    </tr>\n",
              "  </thead>\n",
              "  <tbody>\n",
              "    <tr>\n",
              "      <th>0</th>\n",
              "      <td>2019-10-01 00:00:00 UTC</td>\n",
              "      <td>44600062</td>\n",
              "      <td>2103807459595387724</td>\n",
              "      <td>electronics.smartphone</td>\n",
              "      <td>shiseido</td>\n",
              "      <td>35.79</td>\n",
              "      <td>541312140</td>\n",
              "      <td>72d76fde-8bb3-4e00-8c23-a032dfed738c</td>\n",
              "      <td>0</td>\n",
              "      <td>0</td>\n",
              "      <td>...</td>\n",
              "      <td>0</td>\n",
              "      <td>0</td>\n",
              "      <td>0</td>\n",
              "      <td>0</td>\n",
              "      <td>0</td>\n",
              "      <td>0</td>\n",
              "      <td>0</td>\n",
              "      <td>0</td>\n",
              "      <td>0</td>\n",
              "      <td>1</td>\n",
              "    </tr>\n",
              "    <tr>\n",
              "      <th>1</th>\n",
              "      <td>2019-10-01 00:00:00 UTC</td>\n",
              "      <td>3900821</td>\n",
              "      <td>2053013552326770905</td>\n",
              "      <td>appliances.environment.water_heater</td>\n",
              "      <td>aqua</td>\n",
              "      <td>33.20</td>\n",
              "      <td>554748717</td>\n",
              "      <td>9333dfbd-b87a-4708-9857-6336556b0fcc</td>\n",
              "      <td>0</td>\n",
              "      <td>0</td>\n",
              "      <td>...</td>\n",
              "      <td>0</td>\n",
              "      <td>0</td>\n",
              "      <td>0</td>\n",
              "      <td>0</td>\n",
              "      <td>0</td>\n",
              "      <td>0</td>\n",
              "      <td>0</td>\n",
              "      <td>0</td>\n",
              "      <td>1</td>\n",
              "      <td>0</td>\n",
              "    </tr>\n",
              "    <tr>\n",
              "      <th>2</th>\n",
              "      <td>2019-10-01 00:00:01 UTC</td>\n",
              "      <td>17200506</td>\n",
              "      <td>2053013559792632471</td>\n",
              "      <td>furniture.living_room.sofa</td>\n",
              "      <td>samsung</td>\n",
              "      <td>543.10</td>\n",
              "      <td>519107250</td>\n",
              "      <td>566511c2-e2e3-422b-b695-cf8e6e792ca8</td>\n",
              "      <td>0</td>\n",
              "      <td>0</td>\n",
              "      <td>...</td>\n",
              "      <td>0</td>\n",
              "      <td>0</td>\n",
              "      <td>0</td>\n",
              "      <td>0</td>\n",
              "      <td>0</td>\n",
              "      <td>0</td>\n",
              "      <td>0</td>\n",
              "      <td>0</td>\n",
              "      <td>1</td>\n",
              "      <td>1</td>\n",
              "    </tr>\n",
              "    <tr>\n",
              "      <th>3</th>\n",
              "      <td>2019-10-01 00:00:01 UTC</td>\n",
              "      <td>1307067</td>\n",
              "      <td>2053013558920217191</td>\n",
              "      <td>computers.notebook</td>\n",
              "      <td>lenovo</td>\n",
              "      <td>251.74</td>\n",
              "      <td>550050854</td>\n",
              "      <td>7c90fc70-0e80-4590-96f3-13c02c18c713</td>\n",
              "      <td>0</td>\n",
              "      <td>0</td>\n",
              "      <td>...</td>\n",
              "      <td>0</td>\n",
              "      <td>0</td>\n",
              "      <td>0</td>\n",
              "      <td>0</td>\n",
              "      <td>0</td>\n",
              "      <td>0</td>\n",
              "      <td>0</td>\n",
              "      <td>1</td>\n",
              "      <td>0</td>\n",
              "      <td>0</td>\n",
              "    </tr>\n",
              "    <tr>\n",
              "      <th>4</th>\n",
              "      <td>2019-10-01 00:00:04 UTC</td>\n",
              "      <td>1004237</td>\n",
              "      <td>2053013555631882655</td>\n",
              "      <td>electronics.smartphone</td>\n",
              "      <td>apple</td>\n",
              "      <td>1081.98</td>\n",
              "      <td>535871217</td>\n",
              "      <td>c6bd7419-2748-4c56-95b4-8cec9ff8b80d</td>\n",
              "      <td>0</td>\n",
              "      <td>0</td>\n",
              "      <td>...</td>\n",
              "      <td>0</td>\n",
              "      <td>0</td>\n",
              "      <td>0</td>\n",
              "      <td>0</td>\n",
              "      <td>0</td>\n",
              "      <td>0</td>\n",
              "      <td>0</td>\n",
              "      <td>1</td>\n",
              "      <td>0</td>\n",
              "      <td>1</td>\n",
              "    </tr>\n",
              "  </tbody>\n",
              "</table>\n",
              "<p>5 rows × 30 columns</p>\n",
              "</div>"
            ],
            "text/plain": [
              "                event_time  product_id          category_id  \\\n",
              "0  2019-10-01 00:00:00 UTC    44600062  2103807459595387724   \n",
              "1  2019-10-01 00:00:00 UTC     3900821  2053013552326770905   \n",
              "2  2019-10-01 00:00:01 UTC    17200506  2053013559792632471   \n",
              "3  2019-10-01 00:00:01 UTC     1307067  2053013558920217191   \n",
              "4  2019-10-01 00:00:04 UTC     1004237  2053013555631882655   \n",
              "\n",
              "                         category_code     brand    price    user_id  \\\n",
              "0               electronics.smartphone  shiseido    35.79  541312140   \n",
              "1  appliances.environment.water_heater      aqua    33.20  554748717   \n",
              "2           furniture.living_room.sofa   samsung   543.10  519107250   \n",
              "3                   computers.notebook    lenovo   251.74  550050854   \n",
              "4               electronics.smartphone     apple  1081.98  535871217   \n",
              "\n",
              "                           user_session  event_type_cart  event_type_purchase  \\\n",
              "0  72d76fde-8bb3-4e00-8c23-a032dfed738c                0                    0   \n",
              "1  9333dfbd-b87a-4708-9857-6336556b0fcc                0                    0   \n",
              "2  566511c2-e2e3-422b-b695-cf8e6e792ca8                0                    0   \n",
              "3  7c90fc70-0e80-4590-96f3-13c02c18c713                0                    0   \n",
              "4  c6bd7419-2748-4c56-95b4-8cec9ff8b80d                0                    0   \n",
              "\n",
              "   ...  brand_2  brand_3  brand_4  brand_5  brand_6  brand_7  brand_8  \\\n",
              "0  ...        0        0        0        0        0        0        0   \n",
              "1  ...        0        0        0        0        0        0        0   \n",
              "2  ...        0        0        0        0        0        0        0   \n",
              "3  ...        0        0        0        0        0        0        0   \n",
              "4  ...        0        0        0        0        0        0        0   \n",
              "\n",
              "   brand_9  brand_10  brand_11  \n",
              "0        0         0         1  \n",
              "1        0         1         0  \n",
              "2        0         1         1  \n",
              "3        1         0         0  \n",
              "4        1         0         1  \n",
              "\n",
              "[5 rows x 30 columns]"
            ]
          },
          "execution_count": 22,
          "metadata": {},
          "output_type": "execute_result"
        }
      ],
      "source": [
        "df.head()"
      ]
    },
    {
      "cell_type": "code",
      "execution_count": 23,
      "id": "rceQXGWojj65",
      "metadata": {
        "id": "rceQXGWojj65"
      },
      "outputs": [],
      "source": [
        "df = df.drop(['category_code', 'brand'], axis=1)"
      ]
    },
    {
      "cell_type": "code",
      "execution_count": 24,
      "id": "iqchwBTzjrQ0",
      "metadata": {
        "colab": {
          "base_uri": "https://localhost:8080/",
          "height": 429
        },
        "id": "iqchwBTzjrQ0",
        "outputId": "252875db-a22a-4123-8640-07f3c01369d0"
      },
      "outputs": [
        {
          "data": {
            "text/html": [
              "<div>\n",
              "<style scoped>\n",
              "    .dataframe tbody tr th:only-of-type {\n",
              "        vertical-align: middle;\n",
              "    }\n",
              "\n",
              "    .dataframe tbody tr th {\n",
              "        vertical-align: top;\n",
              "    }\n",
              "\n",
              "    .dataframe thead th {\n",
              "        text-align: right;\n",
              "    }\n",
              "</style>\n",
              "<table border=\"1\" class=\"dataframe\">\n",
              "  <thead>\n",
              "    <tr style=\"text-align: right;\">\n",
              "      <th></th>\n",
              "      <th>event_time</th>\n",
              "      <th>product_id</th>\n",
              "      <th>category_id</th>\n",
              "      <th>price</th>\n",
              "      <th>user_id</th>\n",
              "      <th>user_session</th>\n",
              "      <th>event_type_cart</th>\n",
              "      <th>event_type_purchase</th>\n",
              "      <th>event_type_view</th>\n",
              "      <th>category_code_0</th>\n",
              "      <th>...</th>\n",
              "      <th>brand_2</th>\n",
              "      <th>brand_3</th>\n",
              "      <th>brand_4</th>\n",
              "      <th>brand_5</th>\n",
              "      <th>brand_6</th>\n",
              "      <th>brand_7</th>\n",
              "      <th>brand_8</th>\n",
              "      <th>brand_9</th>\n",
              "      <th>brand_10</th>\n",
              "      <th>brand_11</th>\n",
              "    </tr>\n",
              "  </thead>\n",
              "  <tbody>\n",
              "    <tr>\n",
              "      <th>0</th>\n",
              "      <td>2019-10-01 00:00:00 UTC</td>\n",
              "      <td>44600062</td>\n",
              "      <td>2103807459595387724</td>\n",
              "      <td>35.79</td>\n",
              "      <td>541312140</td>\n",
              "      <td>72d76fde-8bb3-4e00-8c23-a032dfed738c</td>\n",
              "      <td>0</td>\n",
              "      <td>0</td>\n",
              "      <td>1</td>\n",
              "      <td>0</td>\n",
              "      <td>...</td>\n",
              "      <td>0</td>\n",
              "      <td>0</td>\n",
              "      <td>0</td>\n",
              "      <td>0</td>\n",
              "      <td>0</td>\n",
              "      <td>0</td>\n",
              "      <td>0</td>\n",
              "      <td>0</td>\n",
              "      <td>0</td>\n",
              "      <td>1</td>\n",
              "    </tr>\n",
              "    <tr>\n",
              "      <th>1</th>\n",
              "      <td>2019-10-01 00:00:00 UTC</td>\n",
              "      <td>3900821</td>\n",
              "      <td>2053013552326770905</td>\n",
              "      <td>33.20</td>\n",
              "      <td>554748717</td>\n",
              "      <td>9333dfbd-b87a-4708-9857-6336556b0fcc</td>\n",
              "      <td>0</td>\n",
              "      <td>0</td>\n",
              "      <td>1</td>\n",
              "      <td>0</td>\n",
              "      <td>...</td>\n",
              "      <td>0</td>\n",
              "      <td>0</td>\n",
              "      <td>0</td>\n",
              "      <td>0</td>\n",
              "      <td>0</td>\n",
              "      <td>0</td>\n",
              "      <td>0</td>\n",
              "      <td>0</td>\n",
              "      <td>1</td>\n",
              "      <td>0</td>\n",
              "    </tr>\n",
              "    <tr>\n",
              "      <th>2</th>\n",
              "      <td>2019-10-01 00:00:01 UTC</td>\n",
              "      <td>17200506</td>\n",
              "      <td>2053013559792632471</td>\n",
              "      <td>543.10</td>\n",
              "      <td>519107250</td>\n",
              "      <td>566511c2-e2e3-422b-b695-cf8e6e792ca8</td>\n",
              "      <td>0</td>\n",
              "      <td>0</td>\n",
              "      <td>1</td>\n",
              "      <td>0</td>\n",
              "      <td>...</td>\n",
              "      <td>0</td>\n",
              "      <td>0</td>\n",
              "      <td>0</td>\n",
              "      <td>0</td>\n",
              "      <td>0</td>\n",
              "      <td>0</td>\n",
              "      <td>0</td>\n",
              "      <td>0</td>\n",
              "      <td>1</td>\n",
              "      <td>1</td>\n",
              "    </tr>\n",
              "    <tr>\n",
              "      <th>3</th>\n",
              "      <td>2019-10-01 00:00:01 UTC</td>\n",
              "      <td>1307067</td>\n",
              "      <td>2053013558920217191</td>\n",
              "      <td>251.74</td>\n",
              "      <td>550050854</td>\n",
              "      <td>7c90fc70-0e80-4590-96f3-13c02c18c713</td>\n",
              "      <td>0</td>\n",
              "      <td>0</td>\n",
              "      <td>1</td>\n",
              "      <td>0</td>\n",
              "      <td>...</td>\n",
              "      <td>0</td>\n",
              "      <td>0</td>\n",
              "      <td>0</td>\n",
              "      <td>0</td>\n",
              "      <td>0</td>\n",
              "      <td>0</td>\n",
              "      <td>0</td>\n",
              "      <td>1</td>\n",
              "      <td>0</td>\n",
              "      <td>0</td>\n",
              "    </tr>\n",
              "    <tr>\n",
              "      <th>4</th>\n",
              "      <td>2019-10-01 00:00:04 UTC</td>\n",
              "      <td>1004237</td>\n",
              "      <td>2053013555631882655</td>\n",
              "      <td>1081.98</td>\n",
              "      <td>535871217</td>\n",
              "      <td>c6bd7419-2748-4c56-95b4-8cec9ff8b80d</td>\n",
              "      <td>0</td>\n",
              "      <td>0</td>\n",
              "      <td>1</td>\n",
              "      <td>0</td>\n",
              "      <td>...</td>\n",
              "      <td>0</td>\n",
              "      <td>0</td>\n",
              "      <td>0</td>\n",
              "      <td>0</td>\n",
              "      <td>0</td>\n",
              "      <td>0</td>\n",
              "      <td>0</td>\n",
              "      <td>1</td>\n",
              "      <td>0</td>\n",
              "      <td>1</td>\n",
              "    </tr>\n",
              "  </tbody>\n",
              "</table>\n",
              "<p>5 rows × 28 columns</p>\n",
              "</div>"
            ],
            "text/plain": [
              "                event_time  product_id          category_id    price  \\\n",
              "0  2019-10-01 00:00:00 UTC    44600062  2103807459595387724    35.79   \n",
              "1  2019-10-01 00:00:00 UTC     3900821  2053013552326770905    33.20   \n",
              "2  2019-10-01 00:00:01 UTC    17200506  2053013559792632471   543.10   \n",
              "3  2019-10-01 00:00:01 UTC     1307067  2053013558920217191   251.74   \n",
              "4  2019-10-01 00:00:04 UTC     1004237  2053013555631882655  1081.98   \n",
              "\n",
              "     user_id                          user_session  event_type_cart  \\\n",
              "0  541312140  72d76fde-8bb3-4e00-8c23-a032dfed738c                0   \n",
              "1  554748717  9333dfbd-b87a-4708-9857-6336556b0fcc                0   \n",
              "2  519107250  566511c2-e2e3-422b-b695-cf8e6e792ca8                0   \n",
              "3  550050854  7c90fc70-0e80-4590-96f3-13c02c18c713                0   \n",
              "4  535871217  c6bd7419-2748-4c56-95b4-8cec9ff8b80d                0   \n",
              "\n",
              "   event_type_purchase  event_type_view  category_code_0  ...  brand_2  \\\n",
              "0                    0                1                0  ...        0   \n",
              "1                    0                1                0  ...        0   \n",
              "2                    0                1                0  ...        0   \n",
              "3                    0                1                0  ...        0   \n",
              "4                    0                1                0  ...        0   \n",
              "\n",
              "   brand_3  brand_4  brand_5  brand_6  brand_7  brand_8  brand_9  brand_10  \\\n",
              "0        0        0        0        0        0        0        0         0   \n",
              "1        0        0        0        0        0        0        0         1   \n",
              "2        0        0        0        0        0        0        0         1   \n",
              "3        0        0        0        0        0        0        1         0   \n",
              "4        0        0        0        0        0        0        1         0   \n",
              "\n",
              "   brand_11  \n",
              "0         1  \n",
              "1         0  \n",
              "2         1  \n",
              "3         0  \n",
              "4         1  \n",
              "\n",
              "[5 rows x 28 columns]"
            ]
          },
          "execution_count": 24,
          "metadata": {},
          "output_type": "execute_result"
        }
      ],
      "source": [
        "df.head()"
      ]
    },
    {
      "cell_type": "code",
      "execution_count": 25,
      "id": "DkLCj5e9aZqr",
      "metadata": {
        "colab": {
          "base_uri": "https://localhost:8080/"
        },
        "id": "DkLCj5e9aZqr",
        "outputId": "57ee15f6-fa5d-4e20-f282-6c3181767a46"
      },
      "outputs": [
        {
          "name": "stdout",
          "output_type": "stream",
          "text": [
            "Outliers found in the 'price' column:\n",
            "            price\n",
            "4         1081.98\n",
            "5          908.62\n",
            "11         900.64\n",
            "19        1747.79\n",
            "22         921.49\n",
            "...           ...\n",
            "42448662   926.41\n",
            "42448667  1067.98\n",
            "42448699  1091.33\n",
            "42448728  1665.36\n",
            "42448731  2570.18\n",
            "\n",
            "[3671578 rows x 1 columns]\n"
          ]
        }
      ],
      "source": [
        "Q1 = df['price'].quantile(0.25)\n",
        "Q3 = df['price'].quantile(0.75)\n",
        "IQR = Q3 - Q1\n",
        "\n",
        "lower_bound = Q1 - 1.5 * IQR\n",
        "upper_bound = Q3 + 1.5 * IQR\n",
        "\n",
        "outliers = df[(df['price'] < lower_bound) | (df['price'] > upper_bound)]\n",
        "\n",
        "if not outliers.empty:\n",
        "  print(\"Outliers found in the 'price' column:\")\n",
        "  print(outliers[['price']])\n",
        "else:\n",
        "  print(\"No outliers found in the 'price' column based on the IQR method.\")"
      ]
    },
    {
      "cell_type": "code",
      "execution_count": 26,
      "id": "1pHdeTHeaD6C",
      "metadata": {
        "colab": {
          "base_uri": "https://localhost:8080/",
          "height": 520
        },
        "id": "1pHdeTHeaD6C",
        "outputId": "27d496d7-c7cd-485c-a816-416e435af0a4"
      },
      "outputs": [
        {
          "data": {
            "image/png": "[encoded data removed]",
            "text/plain": [
              "<Figure size 1000x600 with 1 Axes>"
            ]
          },
          "metadata": {},
          "output_type": "display_data"
        }
      ],
      "source": [
        "# Sample 10,000 rows from the dataset\n",
        "sample_df = df['price'].sample(n=10000, random_state=42)\n",
        "\n",
        "plt.figure(figsize=(10, 6))\n",
        "sns.boxplot(x=sample_df)\n",
        "plt.title('Box Plot of Price (Sampled)')\n",
        "plt.xlabel('Price')\n",
        "plt.show()"
      ]
    },
    {
      "cell_type": "code",
      "execution_count": 27,
      "id": "7TtckmIenSRJ",
      "metadata": {
        "colab": {
          "base_uri": "https://localhost:8080/",
          "height": 476
        },
        "id": "7TtckmIenSRJ",
        "outputId": "0535d259-6909-4ba2-c0c8-8019a6d0554f"
      },
      "outputs": [
        {
          "data": {
            "image/png": "[encoded data removed]",
            "text/plain": [
              "<Figure size 1000x600 with 1 Axes>"
            ]
          },
          "metadata": {},
          "output_type": "display_data"
        }
      ],
      "source": [
        "# Sample 100,000 rows (adjust size based on available memory)\n",
        "sample = df['price'].sample(n=100000, random_state=42)\n",
        "\n",
        "plt.figure(figsize=(10, 6))\n",
        "sns.histplot(sample, kde=True, bins=50)\n",
        "plt.title('Distribution of Price (Sampled)')\n",
        "plt.xlabel('Price')\n",
        "plt.ylabel('Frequency')\n",
        "plt.show()"
      ]
    },
    {
      "cell_type": "code",
      "execution_count": 28,
      "id": "5e64534f",
      "metadata": {},
      "outputs": [
        {
          "data": {
            "image/png": "[encoded data removed]",
            "text/plain": [
              "<Figure size 1000x600 with 1 Axes>"
            ]
          },
          "metadata": {},
          "output_type": "display_data"
        }
      ],
      "source": [
        "import numpy as np\n",
        "\n",
        "counts, bins = np.histogram(df['price'].dropna(), bins=50)\n",
        "plt.figure(figsize=(10, 6))\n",
        "plt.hist(bins[:-1], bins, weights=counts)\n",
        "plt.title('Price Distribution')\n",
        "plt.xlabel('Price')\n",
        "plt.ylabel('Frequency')\n",
        "plt.show()"
      ]
    },
    {
      "cell_type": "code",
      "execution_count": 29,
      "id": "YW8u394urvCm",
      "metadata": {
        "colab": {
          "base_uri": "https://localhost:8080/"
        },
        "id": "YW8u394urvCm",
        "outputId": "5f9641ff-8ec4-4cf2-f6b0-c851775d22b2"
      },
      "outputs": [
        {
          "name": "stdout",
          "output_type": "stream",
          "text": [
            "0   -0.710454\n",
            "1   -0.717683\n",
            "2    0.705549\n",
            "3   -0.107695\n",
            "4    2.209669\n",
            "Name: price, dtype: float64\n"
          ]
        }
      ],
      "source": [
        "from sklearn.preprocessing import StandardScaler\n",
        "\n",
        "scaler = StandardScaler()\n",
        "df['price'] = scaler.fit_transform(df[['price']])\n",
        "\n",
        "print(df['price'].head())"
      ]
    },
    {
      "cell_type": "code",
      "execution_count": 30,
      "id": "mpdZGcOlrz3L",
      "metadata": {
        "colab": {
          "base_uri": "https://localhost:8080/",
          "height": 429
        },
        "id": "mpdZGcOlrz3L",
        "outputId": "ca03e1bf-f8af-40f4-a695-ff1ac8628492"
      },
      "outputs": [
        {
          "data": {
            "text/html": [
              "<div>\n",
              "<style scoped>\n",
              "    .dataframe tbody tr th:only-of-type {\n",
              "        vertical-align: middle;\n",
              "    }\n",
              "\n",
              "    .dataframe tbody tr th {\n",
              "        vertical-align: top;\n",
              "    }\n",
              "\n",
              "    .dataframe thead th {\n",
              "        text-align: right;\n",
              "    }\n",
              "</style>\n",
              "<table border=\"1\" class=\"dataframe\">\n",
              "  <thead>\n",
              "    <tr style=\"text-align: right;\">\n",
              "      <th></th>\n",
              "      <th>event_time</th>\n",
              "      <th>product_id</th>\n",
              "      <th>category_id</th>\n",
              "      <th>price</th>\n",
              "      <th>user_id</th>\n",
              "      <th>user_session</th>\n",
              "      <th>event_type_cart</th>\n",
              "      <th>event_type_purchase</th>\n",
              "      <th>event_type_view</th>\n",
              "      <th>category_code_0</th>\n",
              "      <th>...</th>\n",
              "      <th>brand_2</th>\n",
              "      <th>brand_3</th>\n",
              "      <th>brand_4</th>\n",
              "      <th>brand_5</th>\n",
              "      <th>brand_6</th>\n",
              "      <th>brand_7</th>\n",
              "      <th>brand_8</th>\n",
              "      <th>brand_9</th>\n",
              "      <th>brand_10</th>\n",
              "      <th>brand_11</th>\n",
              "    </tr>\n",
              "  </thead>\n",
              "  <tbody>\n",
              "    <tr>\n",
              "      <th>0</th>\n",
              "      <td>2019-10-01 00:00:00 UTC</td>\n",
              "      <td>44600062</td>\n",
              "      <td>2103807459595387724</td>\n",
              "      <td>-0.710454</td>\n",
              "      <td>541312140</td>\n",
              "      <td>72d76fde-8bb3-4e00-8c23-a032dfed738c</td>\n",
              "      <td>0</td>\n",
              "      <td>0</td>\n",
              "      <td>1</td>\n",
              "      <td>0</td>\n",
              "      <td>...</td>\n",
              "      <td>0</td>\n",
              "      <td>0</td>\n",
              "      <td>0</td>\n",
              "      <td>0</td>\n",
              "      <td>0</td>\n",
              "      <td>0</td>\n",
              "      <td>0</td>\n",
              "      <td>0</td>\n",
              "      <td>0</td>\n",
              "      <td>1</td>\n",
              "    </tr>\n",
              "    <tr>\n",
              "      <th>1</th>\n",
              "      <td>2019-10-01 00:00:00 UTC</td>\n",
              "      <td>3900821</td>\n",
              "      <td>2053013552326770905</td>\n",
              "      <td>-0.717683</td>\n",
              "      <td>554748717</td>\n",
              "      <td>9333dfbd-b87a-4708-9857-6336556b0fcc</td>\n",
              "      <td>0</td>\n",
              "      <td>0</td>\n",
              "      <td>1</td>\n",
              "      <td>0</td>\n",
              "      <td>...</td>\n",
              "      <td>0</td>\n",
              "      <td>0</td>\n",
              "      <td>0</td>\n",
              "      <td>0</td>\n",
              "      <td>0</td>\n",
              "      <td>0</td>\n",
              "      <td>0</td>\n",
              "      <td>0</td>\n",
              "      <td>1</td>\n",
              "      <td>0</td>\n",
              "    </tr>\n",
              "    <tr>\n",
              "      <th>2</th>\n",
              "      <td>2019-10-01 00:00:01 UTC</td>\n",
              "      <td>17200506</td>\n",
              "      <td>2053013559792632471</td>\n",
              "      <td>0.705549</td>\n",
              "      <td>519107250</td>\n",
              "      <td>566511c2-e2e3-422b-b695-cf8e6e792ca8</td>\n",
              "      <td>0</td>\n",
              "      <td>0</td>\n",
              "      <td>1</td>\n",
              "      <td>0</td>\n",
              "      <td>...</td>\n",
              "      <td>0</td>\n",
              "      <td>0</td>\n",
              "      <td>0</td>\n",
              "      <td>0</td>\n",
              "      <td>0</td>\n",
              "      <td>0</td>\n",
              "      <td>0</td>\n",
              "      <td>0</td>\n",
              "      <td>1</td>\n",
              "      <td>1</td>\n",
              "    </tr>\n",
              "    <tr>\n",
              "      <th>3</th>\n",
              "      <td>2019-10-01 00:00:01 UTC</td>\n",
              "      <td>1307067</td>\n",
              "      <td>2053013558920217191</td>\n",
              "      <td>-0.107695</td>\n",
              "      <td>550050854</td>\n",
              "      <td>7c90fc70-0e80-4590-96f3-13c02c18c713</td>\n",
              "      <td>0</td>\n",
              "      <td>0</td>\n",
              "      <td>1</td>\n",
              "      <td>0</td>\n",
              "      <td>...</td>\n",
              "      <td>0</td>\n",
              "      <td>0</td>\n",
              "      <td>0</td>\n",
              "      <td>0</td>\n",
              "      <td>0</td>\n",
              "      <td>0</td>\n",
              "      <td>0</td>\n",
              "      <td>1</td>\n",
              "      <td>0</td>\n",
              "      <td>0</td>\n",
              "    </tr>\n",
              "    <tr>\n",
              "      <th>4</th>\n",
              "      <td>2019-10-01 00:00:04 UTC</td>\n",
              "      <td>1004237</td>\n",
              "      <td>2053013555631882655</td>\n",
              "      <td>2.209669</td>\n",
              "      <td>535871217</td>\n",
              "      <td>c6bd7419-2748-4c56-95b4-8cec9ff8b80d</td>\n",
              "      <td>0</td>\n",
              "      <td>0</td>\n",
              "      <td>1</td>\n",
              "      <td>0</td>\n",
              "      <td>...</td>\n",
              "      <td>0</td>\n",
              "      <td>0</td>\n",
              "      <td>0</td>\n",
              "      <td>0</td>\n",
              "      <td>0</td>\n",
              "      <td>0</td>\n",
              "      <td>0</td>\n",
              "      <td>1</td>\n",
              "      <td>0</td>\n",
              "      <td>1</td>\n",
              "    </tr>\n",
              "  </tbody>\n",
              "</table>\n",
              "<p>5 rows × 28 columns</p>\n",
              "</div>"
            ],
            "text/plain": [
              "                event_time  product_id          category_id     price  \\\n",
              "0  2019-10-01 00:00:00 UTC    44600062  2103807459595387724 -0.710454   \n",
              "1  2019-10-01 00:00:00 UTC     3900821  2053013552326770905 -0.717683   \n",
              "2  2019-10-01 00:00:01 UTC    17200506  2053013559792632471  0.705549   \n",
              "3  2019-10-01 00:00:01 UTC     1307067  2053013558920217191 -0.107695   \n",
              "4  2019-10-01 00:00:04 UTC     1004237  2053013555631882655  2.209669   \n",
              "\n",
              "     user_id                          user_session  event_type_cart  \\\n",
              "0  541312140  72d76fde-8bb3-4e00-8c23-a032dfed738c                0   \n",
              "1  554748717  9333dfbd-b87a-4708-9857-6336556b0fcc                0   \n",
              "2  519107250  566511c2-e2e3-422b-b695-cf8e6e792ca8                0   \n",
              "3  550050854  7c90fc70-0e80-4590-96f3-13c02c18c713                0   \n",
              "4  535871217  c6bd7419-2748-4c56-95b4-8cec9ff8b80d                0   \n",
              "\n",
              "   event_type_purchase  event_type_view  category_code_0  ...  brand_2  \\\n",
              "0                    0                1                0  ...        0   \n",
              "1                    0                1                0  ...        0   \n",
              "2                    0                1                0  ...        0   \n",
              "3                    0                1                0  ...        0   \n",
              "4                    0                1                0  ...        0   \n",
              "\n",
              "   brand_3  brand_4  brand_5  brand_6  brand_7  brand_8  brand_9  brand_10  \\\n",
              "0        0        0        0        0        0        0        0         0   \n",
              "1        0        0        0        0        0        0        0         1   \n",
              "2        0        0        0        0        0        0        0         1   \n",
              "3        0        0        0        0        0        0        1         0   \n",
              "4        0        0        0        0        0        0        1         0   \n",
              "\n",
              "   brand_11  \n",
              "0         1  \n",
              "1         0  \n",
              "2         1  \n",
              "3         0  \n",
              "4         1  \n",
              "\n",
              "[5 rows x 28 columns]"
            ]
          },
          "execution_count": 30,
          "metadata": {},
          "output_type": "execute_result"
        }
      ],
      "source": [
        "df.head()"
      ]
    },
    {
      "cell_type": "code",
      "execution_count": 31,
      "id": "bR_MPa2i1yav",
      "metadata": {
        "colab": {
          "base_uri": "https://localhost:8080/",
          "height": 429
        },
        "id": "bR_MPa2i1yav",
        "outputId": "7fcc5beb-a667-47a9-d32c-a96e631a9b6b"
      },
      "outputs": [
        {
          "data": {
            "text/html": [
              "<div>\n",
              "<style scoped>\n",
              "    .dataframe tbody tr th:only-of-type {\n",
              "        vertical-align: middle;\n",
              "    }\n",
              "\n",
              "    .dataframe tbody tr th {\n",
              "        vertical-align: top;\n",
              "    }\n",
              "\n",
              "    .dataframe thead th {\n",
              "        text-align: right;\n",
              "    }\n",
              "</style>\n",
              "<table border=\"1\" class=\"dataframe\">\n",
              "  <thead>\n",
              "    <tr style=\"text-align: right;\">\n",
              "      <th></th>\n",
              "      <th>event_time</th>\n",
              "      <th>product_id</th>\n",
              "      <th>category_id</th>\n",
              "      <th>price</th>\n",
              "      <th>user_id</th>\n",
              "      <th>user_session</th>\n",
              "      <th>event_type_cart</th>\n",
              "      <th>event_type_purchase</th>\n",
              "      <th>event_type_view</th>\n",
              "      <th>category_code_0</th>\n",
              "      <th>...</th>\n",
              "      <th>brand_2</th>\n",
              "      <th>brand_3</th>\n",
              "      <th>brand_4</th>\n",
              "      <th>brand_5</th>\n",
              "      <th>brand_6</th>\n",
              "      <th>brand_7</th>\n",
              "      <th>brand_8</th>\n",
              "      <th>brand_9</th>\n",
              "      <th>brand_10</th>\n",
              "      <th>brand_11</th>\n",
              "    </tr>\n",
              "  </thead>\n",
              "  <tbody>\n",
              "    <tr>\n",
              "      <th>0</th>\n",
              "      <td>2019-10-01 00:00:00 UTC</td>\n",
              "      <td>44600062</td>\n",
              "      <td>2103807459595387724</td>\n",
              "      <td>-0.710454</td>\n",
              "      <td>541312140</td>\n",
              "      <td>72d76fde-8bb3-4e00-8c23-a032dfed738c</td>\n",
              "      <td>0</td>\n",
              "      <td>0</td>\n",
              "      <td>1</td>\n",
              "      <td>0</td>\n",
              "      <td>...</td>\n",
              "      <td>0</td>\n",
              "      <td>0</td>\n",
              "      <td>0</td>\n",
              "      <td>0</td>\n",
              "      <td>0</td>\n",
              "      <td>0</td>\n",
              "      <td>0</td>\n",
              "      <td>0</td>\n",
              "      <td>0</td>\n",
              "      <td>1</td>\n",
              "    </tr>\n",
              "    <tr>\n",
              "      <th>1</th>\n",
              "      <td>2019-10-01 00:00:00 UTC</td>\n",
              "      <td>3900821</td>\n",
              "      <td>2053013552326770905</td>\n",
              "      <td>-0.717683</td>\n",
              "      <td>554748717</td>\n",
              "      <td>9333dfbd-b87a-4708-9857-6336556b0fcc</td>\n",
              "      <td>0</td>\n",
              "      <td>0</td>\n",
              "      <td>1</td>\n",
              "      <td>0</td>\n",
              "      <td>...</td>\n",
              "      <td>0</td>\n",
              "      <td>0</td>\n",
              "      <td>0</td>\n",
              "      <td>0</td>\n",
              "      <td>0</td>\n",
              "      <td>0</td>\n",
              "      <td>0</td>\n",
              "      <td>0</td>\n",
              "      <td>1</td>\n",
              "      <td>0</td>\n",
              "    </tr>\n",
              "    <tr>\n",
              "      <th>2</th>\n",
              "      <td>2019-10-01 00:00:01 UTC</td>\n",
              "      <td>17200506</td>\n",
              "      <td>2053013559792632471</td>\n",
              "      <td>0.705549</td>\n",
              "      <td>519107250</td>\n",
              "      <td>566511c2-e2e3-422b-b695-cf8e6e792ca8</td>\n",
              "      <td>0</td>\n",
              "      <td>0</td>\n",
              "      <td>1</td>\n",
              "      <td>0</td>\n",
              "      <td>...</td>\n",
              "      <td>0</td>\n",
              "      <td>0</td>\n",
              "      <td>0</td>\n",
              "      <td>0</td>\n",
              "      <td>0</td>\n",
              "      <td>0</td>\n",
              "      <td>0</td>\n",
              "      <td>0</td>\n",
              "      <td>1</td>\n",
              "      <td>1</td>\n",
              "    </tr>\n",
              "    <tr>\n",
              "      <th>3</th>\n",
              "      <td>2019-10-01 00:00:01 UTC</td>\n",
              "      <td>1307067</td>\n",
              "      <td>2053013558920217191</td>\n",
              "      <td>-0.107695</td>\n",
              "      <td>550050854</td>\n",
              "      <td>7c90fc70-0e80-4590-96f3-13c02c18c713</td>\n",
              "      <td>0</td>\n",
              "      <td>0</td>\n",
              "      <td>1</td>\n",
              "      <td>0</td>\n",
              "      <td>...</td>\n",
              "      <td>0</td>\n",
              "      <td>0</td>\n",
              "      <td>0</td>\n",
              "      <td>0</td>\n",
              "      <td>0</td>\n",
              "      <td>0</td>\n",
              "      <td>0</td>\n",
              "      <td>1</td>\n",
              "      <td>0</td>\n",
              "      <td>0</td>\n",
              "    </tr>\n",
              "    <tr>\n",
              "      <th>4</th>\n",
              "      <td>2019-10-01 00:00:04 UTC</td>\n",
              "      <td>1004237</td>\n",
              "      <td>2053013555631882655</td>\n",
              "      <td>2.209669</td>\n",
              "      <td>535871217</td>\n",
              "      <td>c6bd7419-2748-4c56-95b4-8cec9ff8b80d</td>\n",
              "      <td>0</td>\n",
              "      <td>0</td>\n",
              "      <td>1</td>\n",
              "      <td>0</td>\n",
              "      <td>...</td>\n",
              "      <td>0</td>\n",
              "      <td>0</td>\n",
              "      <td>0</td>\n",
              "      <td>0</td>\n",
              "      <td>0</td>\n",
              "      <td>0</td>\n",
              "      <td>0</td>\n",
              "      <td>1</td>\n",
              "      <td>0</td>\n",
              "      <td>1</td>\n",
              "    </tr>\n",
              "  </tbody>\n",
              "</table>\n",
              "<p>5 rows × 28 columns</p>\n",
              "</div>"
            ],
            "text/plain": [
              "                event_time  product_id          category_id     price  \\\n",
              "0  2019-10-01 00:00:00 UTC    44600062  2103807459595387724 -0.710454   \n",
              "1  2019-10-01 00:00:00 UTC     3900821  2053013552326770905 -0.717683   \n",
              "2  2019-10-01 00:00:01 UTC    17200506  2053013559792632471  0.705549   \n",
              "3  2019-10-01 00:00:01 UTC     1307067  2053013558920217191 -0.107695   \n",
              "4  2019-10-01 00:00:04 UTC     1004237  2053013555631882655  2.209669   \n",
              "\n",
              "     user_id                          user_session  event_type_cart  \\\n",
              "0  541312140  72d76fde-8bb3-4e00-8c23-a032dfed738c                0   \n",
              "1  554748717  9333dfbd-b87a-4708-9857-6336556b0fcc                0   \n",
              "2  519107250  566511c2-e2e3-422b-b695-cf8e6e792ca8                0   \n",
              "3  550050854  7c90fc70-0e80-4590-96f3-13c02c18c713                0   \n",
              "4  535871217  c6bd7419-2748-4c56-95b4-8cec9ff8b80d                0   \n",
              "\n",
              "   event_type_purchase  event_type_view  category_code_0  ...  brand_2  \\\n",
              "0                    0                1                0  ...        0   \n",
              "1                    0                1                0  ...        0   \n",
              "2                    0                1                0  ...        0   \n",
              "3                    0                1                0  ...        0   \n",
              "4                    0                1                0  ...        0   \n",
              "\n",
              "   brand_3  brand_4  brand_5  brand_6  brand_7  brand_8  brand_9  brand_10  \\\n",
              "0        0        0        0        0        0        0        0         0   \n",
              "1        0        0        0        0        0        0        0         1   \n",
              "2        0        0        0        0        0        0        0         1   \n",
              "3        0        0        0        0        0        0        1         0   \n",
              "4        0        0        0        0        0        0        1         0   \n",
              "\n",
              "   brand_11  \n",
              "0         1  \n",
              "1         0  \n",
              "2         1  \n",
              "3         0  \n",
              "4         1  \n",
              "\n",
              "[5 rows x 28 columns]"
            ]
          },
          "execution_count": 31,
          "metadata": {},
          "output_type": "execute_result"
        }
      ],
      "source": [
        "df.head()"
      ]
    },
    {
      "cell_type": "code",
      "execution_count": 32,
      "id": "DskRjjPB10SL",
      "metadata": {
        "colab": {
          "base_uri": "https://localhost:8080/"
        },
        "id": "DskRjjPB10SL",
        "outputId": "6e5c8f0c-e00f-455d-dba4-3ee74410d373"
      },
      "outputs": [
        {
          "name": "stdout",
          "output_type": "stream",
          "text": [
            "<class 'pandas.core.frame.DataFrame'>\n",
            "RangeIndex: 42448764 entries, 0 to 42448763\n",
            "Data columns (total 28 columns):\n",
            " #   Column               Dtype  \n",
            "---  ------               -----  \n",
            " 0   event_time           object \n",
            " 1   product_id           int64  \n",
            " 2   category_id          int64  \n",
            " 3   price                float64\n",
            " 4   user_id              int64  \n",
            " 5   user_session         object \n",
            " 6   event_type_cart      int64  \n",
            " 7   event_type_purchase  int64  \n",
            " 8   event_type_view      int64  \n",
            " 9   category_code_0      int64  \n",
            " 10  category_code_1      int64  \n",
            " 11  category_code_2      int64  \n",
            " 12  category_code_3      int64  \n",
            " 13  category_code_4      int64  \n",
            " 14  category_code_5      int64  \n",
            " 15  category_code_6      int64  \n",
            " 16  brand_0              int64  \n",
            " 17  brand_1              int64  \n",
            " 18  brand_2              int64  \n",
            " 19  brand_3              int64  \n",
            " 20  brand_4              int64  \n",
            " 21  brand_5              int64  \n",
            " 22  brand_6              int64  \n",
            " 23  brand_7              int64  \n",
            " 24  brand_8              int64  \n",
            " 25  brand_9              int64  \n",
            " 26  brand_10             int64  \n",
            " 27  brand_11             int64  \n",
            "dtypes: float64(1), int64(25), object(2)\n",
            "memory usage: 8.9+ GB\n"
          ]
        }
      ],
      "source": [
        "df.info()"
      ]
    },
    {
      "cell_type": "code",
      "execution_count": 33,
      "id": "Yvp1cHaw11xA",
      "metadata": {
        "colab": {
          "base_uri": "https://localhost:8080/"
        },
        "id": "Yvp1cHaw11xA",
        "outputId": "0e31f62e-1b21-44c0-e10a-b1405d550e07"
      },
      "outputs": [
        {
          "data": {
            "text/plain": [
              "(42448764, 28)"
            ]
          },
          "execution_count": 33,
          "metadata": {},
          "output_type": "execute_result"
        }
      ],
      "source": [
        "df.shape"
      ]
    },
    {
      "cell_type": "code",
      "execution_count": 34,
      "id": "22083361",
      "metadata": {
        "id": "22083361"
      },
      "outputs": [],
      "source": [
        "df['event_time'] = pd.to_datetime(df['event_time'], utc=True)"
      ]
    },
    {
      "cell_type": "code",
      "execution_count": 35,
      "id": "ZIbofwTX2AZ8",
      "metadata": {
        "colab": {
          "base_uri": "https://localhost:8080/",
          "height": 458
        },
        "id": "ZIbofwTX2AZ8",
        "outputId": "cfad7943-0c48-4c49-bba9-2f2dae4d2f3a"
      },
      "outputs": [
        {
          "data": {
            "text/plain": [
              "0          2019-10-01 00:00:00+00:00\n",
              "1          2019-10-01 00:00:00+00:00\n",
              "2          2019-10-01 00:00:01+00:00\n",
              "3          2019-10-01 00:00:01+00:00\n",
              "4          2019-10-01 00:00:04+00:00\n",
              "                      ...           \n",
              "42448759   2019-10-31 23:59:58+00:00\n",
              "42448760   2019-10-31 23:59:58+00:00\n",
              "42448761   2019-10-31 23:59:58+00:00\n",
              "42448762   2019-10-31 23:59:59+00:00\n",
              "42448763   2019-10-31 23:59:59+00:00\n",
              "Name: event_time, Length: 42448764, dtype: datetime64[ns, UTC]"
            ]
          },
          "execution_count": 35,
          "metadata": {},
          "output_type": "execute_result"
        }
      ],
      "source": [
        "df['event_time']"
      ]
    },
    {
      "cell_type": "code",
      "execution_count": 36,
      "id": "nQIFIGoi2Bzr",
      "metadata": {
        "colab": {
          "base_uri": "https://localhost:8080/",
          "height": 962
        },
        "id": "nQIFIGoi2Bzr",
        "outputId": "b979c4ad-6f33-4667-ae1a-851b3d726a7a"
      },
      "outputs": [
        {
          "data": {
            "text/plain": [
              "event_time             datetime64[ns, UTC]\n",
              "product_id                           int64\n",
              "category_id                          int64\n",
              "price                              float64\n",
              "user_id                              int64\n",
              "user_session                        object\n",
              "event_type_cart                      int64\n",
              "event_type_purchase                  int64\n",
              "event_type_view                      int64\n",
              "category_code_0                      int64\n",
              "category_code_1                      int64\n",
              "category_code_2                      int64\n",
              "category_code_3                      int64\n",
              "category_code_4                      int64\n",
              "category_code_5                      int64\n",
              "category_code_6                      int64\n",
              "brand_0                              int64\n",
              "brand_1                              int64\n",
              "brand_2                              int64\n",
              "brand_3                              int64\n",
              "brand_4                              int64\n",
              "brand_5                              int64\n",
              "brand_6                              int64\n",
              "brand_7                              int64\n",
              "brand_8                              int64\n",
              "brand_9                              int64\n",
              "brand_10                             int64\n",
              "brand_11                             int64\n",
              "dtype: object"
            ]
          },
          "execution_count": 36,
          "metadata": {},
          "output_type": "execute_result"
        }
      ],
      "source": [
        "df.dtypes"
      ]
    },
    {
      "cell_type": "code",
      "execution_count": 70,
      "id": "2c23b4da",
      "metadata": {
        "id": "2c23b4da"
      },
      "outputs": [
        {
          "ename": "KeyError",
          "evalue": "\"None of ['event_time'] are in the columns\"",
          "output_type": "error",
          "traceback": [
            "\u001b[1;31m---------------------------------------------------------------------------\u001b[0m",
            "\u001b[1;31mKeyError\u001b[0m                                  Traceback (most recent call last)",
            "\u001b[1;32m~\\AppData\\Local\\Temp\\ipykernel_7040\\336345697.py\u001b[0m in \u001b[0;36m?\u001b[1;34m()\u001b[0m\n\u001b[1;32m----> 1\u001b[1;33m \u001b[0mdf\u001b[0m\u001b[1;33m.\u001b[0m\u001b[0mset_index\u001b[0m\u001b[1;33m(\u001b[0m\u001b[1;34m'event_time'\u001b[0m\u001b[1;33m,\u001b[0m \u001b[0minplace\u001b[0m\u001b[1;33m=\u001b[0m\u001b[1;32mTrue\u001b[0m\u001b[1;33m)\u001b[0m\u001b[1;33m\u001b[0m\u001b[1;33m\u001b[0m\u001b[0m\n\u001b[0m",
            "\u001b[1;32m~\\AppData\\Local\\Packages\\PythonSoftwareFoundation.Python.3.11_qbz5n2kfra8p0\\LocalCache\\local-packages\\Python311\\site-packages\\pandas\\core\\frame.py\u001b[0m in \u001b[0;36m?\u001b[1;34m(self, keys, drop, append, inplace, verify_integrity)\u001b[0m\n\u001b[0;32m   6118\u001b[0m                     \u001b[1;32mif\u001b[0m \u001b[1;32mnot\u001b[0m \u001b[0mfound\u001b[0m\u001b[1;33m:\u001b[0m\u001b[1;33m\u001b[0m\u001b[1;33m\u001b[0m\u001b[0m\n\u001b[0;32m   6119\u001b[0m                         \u001b[0mmissing\u001b[0m\u001b[1;33m.\u001b[0m\u001b[0mappend\u001b[0m\u001b[1;33m(\u001b[0m\u001b[0mcol\u001b[0m\u001b[1;33m)\u001b[0m\u001b[1;33m\u001b[0m\u001b[1;33m\u001b[0m\u001b[0m\n\u001b[0;32m   6120\u001b[0m \u001b[1;33m\u001b[0m\u001b[0m\n\u001b[0;32m   6121\u001b[0m         \u001b[1;32mif\u001b[0m \u001b[0mmissing\u001b[0m\u001b[1;33m:\u001b[0m\u001b[1;33m\u001b[0m\u001b[1;33m\u001b[0m\u001b[0m\n\u001b[1;32m-> 6122\u001b[1;33m             \u001b[1;32mraise\u001b[0m \u001b[0mKeyError\u001b[0m\u001b[1;33m(\u001b[0m\u001b[1;34mf\"None of {missing} are in the columns\"\u001b[0m\u001b[1;33m)\u001b[0m\u001b[1;33m\u001b[0m\u001b[1;33m\u001b[0m\u001b[0m\n\u001b[0m\u001b[0;32m   6123\u001b[0m \u001b[1;33m\u001b[0m\u001b[0m\n\u001b[0;32m   6124\u001b[0m         \u001b[1;32mif\u001b[0m \u001b[0minplace\u001b[0m\u001b[1;33m:\u001b[0m\u001b[1;33m\u001b[0m\u001b[1;33m\u001b[0m\u001b[0m\n\u001b[0;32m   6125\u001b[0m             \u001b[0mframe\u001b[0m \u001b[1;33m=\u001b[0m \u001b[0mself\u001b[0m\u001b[1;33m\u001b[0m\u001b[1;33m\u001b[0m\u001b[0m\n",
            "\u001b[1;31mKeyError\u001b[0m: \"None of ['event_time'] are in the columns\""
          ]
        }
      ],
      "source": [
        "df.set_index('event_time', inplace=True)"
      ]
    },
    {
      "cell_type": "code",
      "execution_count": 69,
      "id": "7PLhhfpz2Ewn",
      "metadata": {
        "id": "7PLhhfpz2Ewn"
      },
      "outputs": [
        {
          "ename": "MemoryError",
          "evalue": "Unable to allocate 162. MiB for an array with shape (42448764,) and data type int32",
          "output_type": "error",
          "traceback": [
            "\u001b[1;31m---------------------------------------------------------------------------\u001b[0m",
            "\u001b[1;31mMemoryError\u001b[0m                               Traceback (most recent call last)",
            "Cell \u001b[1;32mIn[69], line 2\u001b[0m\n\u001b[0;32m      1\u001b[0m \u001b[38;5;66;03m# Take a random sample of 1 million rows (preserving index)\u001b[39;00m\n\u001b[1;32m----> 2\u001b[0m df_sample \u001b[38;5;241m=\u001b[39m \u001b[43mdf\u001b[49m\u001b[38;5;241;43m.\u001b[39;49m\u001b[43msample\u001b[49m\u001b[43m(\u001b[49m\u001b[43mn\u001b[49m\u001b[38;5;241;43m=\u001b[39;49m\u001b[38;5;241;43m1_000_000\u001b[39;49m\u001b[43m,\u001b[49m\u001b[43m \u001b[49m\u001b[43mrandom_state\u001b[49m\u001b[38;5;241;43m=\u001b[39;49m\u001b[38;5;241;43m42\u001b[39;49m\u001b[43m)\u001b[49m\n\u001b[0;32m      4\u001b[0m \u001b[38;5;66;03m# Ensure the index is datetime\u001b[39;00m\n\u001b[0;32m      5\u001b[0m df_sample\u001b[38;5;241m.\u001b[39mindex \u001b[38;5;241m=\u001b[39m pd\u001b[38;5;241m.\u001b[39mto_datetime(df_sample\u001b[38;5;241m.\u001b[39mindex, utc\u001b[38;5;241m=\u001b[39m\u001b[38;5;28;01mTrue\u001b[39;00m)\n",
            "File \u001b[1;32m~\\AppData\\Local\\Packages\\PythonSoftwareFoundation.Python.3.11_qbz5n2kfra8p0\\LocalCache\\local-packages\\Python311\\site-packages\\pandas\\core\\generic.py:6118\u001b[0m, in \u001b[0;36mNDFrame.sample\u001b[1;34m(self, n, frac, replace, weights, random_state, axis, ignore_index)\u001b[0m\n\u001b[0;32m   6115\u001b[0m \u001b[38;5;28;01mif\u001b[39;00m weights \u001b[38;5;129;01mis\u001b[39;00m \u001b[38;5;129;01mnot\u001b[39;00m \u001b[38;5;28;01mNone\u001b[39;00m:\n\u001b[0;32m   6116\u001b[0m     weights \u001b[38;5;241m=\u001b[39m sample\u001b[38;5;241m.\u001b[39mpreprocess_weights(\u001b[38;5;28mself\u001b[39m, weights, axis)\n\u001b[1;32m-> 6118\u001b[0m sampled_indices \u001b[38;5;241m=\u001b[39m \u001b[43msample\u001b[49m\u001b[38;5;241;43m.\u001b[39;49m\u001b[43msample\u001b[49m\u001b[43m(\u001b[49m\u001b[43mobj_len\u001b[49m\u001b[43m,\u001b[49m\u001b[43m \u001b[49m\u001b[43msize\u001b[49m\u001b[43m,\u001b[49m\u001b[43m \u001b[49m\u001b[43mreplace\u001b[49m\u001b[43m,\u001b[49m\u001b[43m \u001b[49m\u001b[43mweights\u001b[49m\u001b[43m,\u001b[49m\u001b[43m \u001b[49m\u001b[43mrs\u001b[49m\u001b[43m)\u001b[49m\n\u001b[0;32m   6119\u001b[0m result \u001b[38;5;241m=\u001b[39m \u001b[38;5;28mself\u001b[39m\u001b[38;5;241m.\u001b[39mtake(sampled_indices, axis\u001b[38;5;241m=\u001b[39maxis)\n\u001b[0;32m   6121\u001b[0m \u001b[38;5;28;01mif\u001b[39;00m ignore_index:\n",
            "File \u001b[1;32m~\\AppData\\Local\\Packages\\PythonSoftwareFoundation.Python.3.11_qbz5n2kfra8p0\\LocalCache\\local-packages\\Python311\\site-packages\\pandas\\core\\sample.py:152\u001b[0m, in \u001b[0;36msample\u001b[1;34m(obj_len, size, replace, weights, random_state)\u001b[0m\n\u001b[0;32m    149\u001b[0m     \u001b[38;5;28;01melse\u001b[39;00m:\n\u001b[0;32m    150\u001b[0m         \u001b[38;5;28;01mraise\u001b[39;00m \u001b[38;5;167;01mValueError\u001b[39;00m(\u001b[38;5;124m\"\u001b[39m\u001b[38;5;124mInvalid weights: weights sum to zero\u001b[39m\u001b[38;5;124m\"\u001b[39m)\n\u001b[1;32m--> 152\u001b[0m \u001b[38;5;28;01mreturn\u001b[39;00m \u001b[43mrandom_state\u001b[49m\u001b[38;5;241;43m.\u001b[39;49m\u001b[43mchoice\u001b[49m\u001b[43m(\u001b[49m\u001b[43mobj_len\u001b[49m\u001b[43m,\u001b[49m\u001b[43m \u001b[49m\u001b[43msize\u001b[49m\u001b[38;5;241;43m=\u001b[39;49m\u001b[43msize\u001b[49m\u001b[43m,\u001b[49m\u001b[43m \u001b[49m\u001b[43mreplace\u001b[49m\u001b[38;5;241;43m=\u001b[39;49m\u001b[43mreplace\u001b[49m\u001b[43m,\u001b[49m\u001b[43m \u001b[49m\u001b[43mp\u001b[49m\u001b[38;5;241;43m=\u001b[39;49m\u001b[43mweights\u001b[49m\u001b[43m)\u001b[49m\u001b[38;5;241m.\u001b[39mastype(\n\u001b[0;32m    153\u001b[0m     np\u001b[38;5;241m.\u001b[39mintp, copy\u001b[38;5;241m=\u001b[39m\u001b[38;5;28;01mFalse\u001b[39;00m\n\u001b[0;32m    154\u001b[0m )\n",
            "File \u001b[1;32mnumpy/random/mtrand.pyx:1046\u001b[0m, in \u001b[0;36mnumpy.random.mtrand.RandomState.choice\u001b[1;34m()\u001b[0m\n",
            "File \u001b[1;32mnumpy/random/mtrand.pyx:4739\u001b[0m, in \u001b[0;36mnumpy.random.mtrand.RandomState.permutation\u001b[1;34m()\u001b[0m\n",
            "\u001b[1;31mMemoryError\u001b[0m: Unable to allocate 162. MiB for an array with shape (42448764,) and data type int32"
          ]
        }
      ],
      "source": [
        "# Take a random sample of 1 million rows (preserving index)\n",
        "df_sample = df.sample(n=1_000_000, random_state=42)\n",
        "\n",
        "# Ensure the index is datetime\n",
        "df_sample.index = pd.to_datetime(df_sample.index, utc=True)\n",
        "\n",
        "# Resample by day and count events\n",
        "daily_events = df_sample.resample('D').size()"
      ]
    },
    {
      "cell_type": "code",
      "execution_count": 45,
      "id": "0UWRBtJG2F_C",
      "metadata": {
        "colab": {
          "base_uri": "https://localhost:8080/",
          "height": 415
        },
        "id": "0UWRBtJG2F_C",
        "outputId": "f2e87f15-4daa-45f6-d053-4ccf7d3f896e"
      },
      "outputs": [
        {
          "data": {
            "image/png": "[encoded data removed]",
            "text/plain": [
              "<Figure size 1200x500 with 1 Axes>"
            ]
          },
          "metadata": {},
          "output_type": "display_data"
        }
      ],
      "source": [
        "# Plot the result\n",
        "plt.figure(figsize=(12, 5))\n",
        "daily_events.plot(title='Daily Event Count (Sample of 1M)')\n",
        "plt.ylabel('Number of Events')\n",
        "plt.xlabel('Date')\n",
        "plt.grid(True)\n",
        "plt.tight_layout()\n",
        "plt.show()"
      ]
    },
    {
      "cell_type": "code",
      "execution_count": 47,
      "id": "jbkjhUmb2noE",
      "metadata": {
        "colab": {
          "base_uri": "https://localhost:8080/",
          "height": 367
        },
        "id": "jbkjhUmb2noE",
        "outputId": "a2c3ef61-1d7f-467c-bcca-6f095d1b2c4c"
      },
      "outputs": [
        {
          "data": {
            "image/png": "[encoded data removed]",
            "text/plain": [
              "<Figure size 640x480 with 4 Axes>"
            ]
          },
          "metadata": {},
          "output_type": "display_data"
        }
      ],
      "source": [
        "# Additive decomposition\n",
        "result_add = seasonal_decompose(daily_events, model='additive', period=7)  # period=7 for weekly seasonality\n",
        "result_add.plot()\n",
        "plt.suptitle('Additive Decomposition')\n",
        "plt.show()"
      ]
    },
    {
      "cell_type": "code",
      "execution_count": 48,
      "id": "o04ubxWu2nVf",
      "metadata": {
        "colab": {
          "base_uri": "https://localhost:8080/",
          "height": 350
        },
        "id": "o04ubxWu2nVf",
        "outputId": "98c1f585-98f9-4140-cb7b-51d822d21728"
      },
      "outputs": [
        {
          "data": {
            "image/png": "[encoded data removed]",
            "text/plain": [
              "<Figure size 640x480 with 4 Axes>"
            ]
          },
          "metadata": {},
          "output_type": "display_data"
        }
      ],
      "source": [
        "# Multiplicative decomposition\n",
        "result_mul = seasonal_decompose(daily_events, model='multiplicative', period=7)\n",
        "result_mul.plot()\n",
        "plt.suptitle('Multiplicative Decomposition')\n",
        "plt.show()"
      ]
    },
    {
      "cell_type": "code",
      "execution_count": 49,
      "id": "I9R1Eben2nDY",
      "metadata": {
        "id": "I9R1Eben2nDY"
      },
      "outputs": [],
      "source": [
        "# Aggregate: count number of events per day\n",
        "daily_events = df.groupby(df.index.date).size()\n",
        "daily_events = daily_events.rename('event_count').to_frame()"
      ]
    },
    {
      "cell_type": "code",
      "execution_count": 50,
      "id": "dZwoTWa72-2j",
      "metadata": {
        "colab": {
          "base_uri": "https://localhost:8080/",
          "height": 350
        },
        "id": "dZwoTWa72-2j",
        "outputId": "455ef5ad-269d-4fc8-baf3-902ccd852963"
      },
      "outputs": [
        {
          "name": "stdout",
          "output_type": "stream",
          "text": [
            "ADF Statistic: -2.015584\n",
            "p-value: 0.279782\n",
            "Critical Value 1%: -3.769732625845229\n",
            "Critical Value 5%: -3.005425537190083\n",
            "Critical Value 10%: -2.6425009917355373\n",
            "The series is not stationary\n"
          ]
        }
      ],
      "source": [
        "# Perform ADF test on this daily event count series\n",
        "result = adfuller(daily_events['event_count'])\n",
        "\n",
        "print('ADF Statistic: %f' % result[0])\n",
        "print('p-value: %f' % result[1])\n",
        "\n",
        "# Critical values for significance levels\n",
        "for key, value in result[4].items():\n",
        "    print(f'Critical Value {key}: {value}')\n",
        "\n",
        "if result[1] < 0.05:\n",
        "    print('The series is stationary')\n",
        "else:\n",
        "    print('The series is not stationary')"
      ]
    },
    {
      "cell_type": "code",
      "execution_count": 51,
      "id": "IBb3OuhZ3AnJ",
      "metadata": {
        "colab": {
          "base_uri": "https://localhost:8080/",
          "height": 159
        },
        "id": "IBb3OuhZ3AnJ",
        "outputId": "3fc56d64-521b-4e7a-d5cf-ada764294f0d"
      },
      "outputs": [],
      "source": [
        "result_mul.trend.index = result_mul.trend.index.tz_localize(None)\n",
        "detrended = daily_events['event_count'] / result_mul.trend"
      ]
    },
    {
      "cell_type": "code",
      "execution_count": 52,
      "id": "DZXEX2Nx3DOi",
      "metadata": {
        "colab": {
          "base_uri": "https://localhost:8080/",
          "height": 245
        },
        "id": "DZXEX2Nx3DOi",
        "outputId": "a31f8fc4-ccea-481b-bd12-188099b45c26"
      },
      "outputs": [
        {
          "data": {
            "image/png": "[encoded data removed]",
            "text/plain": [
              "<Figure size 1200x600 with 1 Axes>"
            ]
          },
          "metadata": {},
          "output_type": "display_data"
        }
      ],
      "source": [
        "plt.figure(figsize=(12,6))\n",
        "plt.plot(detrended)\n",
        "plt.title('Daily Event Count Detrended by Dividing the Trend Component (Multiplicative Model)')\n",
        "plt.xlabel('Date')\n",
        "plt.ylabel('Detrended Event Count')\n",
        "plt.show()"
      ]
    },
    {
      "cell_type": "code",
      "execution_count": 53,
      "id": "WEx3HuCU3FoF",
      "metadata": {
        "id": "WEx3HuCU3FoF"
      },
      "outputs": [],
      "source": [
        "result_mul_seasonal = result_mul.seasonal.copy()\n",
        "result_mul_seasonal.index = result_mul_seasonal.index.tz_localize(None)  # remove tz info"
      ]
    },
    {
      "cell_type": "code",
      "execution_count": 54,
      "id": "vz7k2AFg3GsG",
      "metadata": {
        "id": "vz7k2AFg3GsG"
      },
      "outputs": [],
      "source": [
        "seasonally_adjusted = detrended / result_mul_seasonal"
      ]
    },
    {
      "cell_type": "code",
      "execution_count": 55,
      "id": "FGWzrQPs3Izv",
      "metadata": {
        "id": "FGWzrQPs3Izv"
      },
      "outputs": [
        {
          "data": {
            "image/png": "[encoded data removed]",
            "text/plain": [
              "<Figure size 1000x500 with 1 Axes>"
            ]
          },
          "metadata": {},
          "output_type": "display_data"
        }
      ],
      "source": [
        "plt.figure(figsize=(10,5))\n",
        "plt.plot(seasonally_adjusted)\n",
        "plt.title('Deseasonalized time series (Multiplicative)')\n",
        "plt.show()"
      ]
    },
    {
      "cell_type": "code",
      "execution_count": 56,
      "id": "GKlsXF-73KPc",
      "metadata": {
        "id": "GKlsXF-73KPc"
      },
      "outputs": [
        {
          "name": "stdout",
          "output_type": "stream",
          "text": [
            "ADF Statistic: -4.948701\n",
            "p-value: 0.000028\n",
            "The deseasonalized series is stationary\n"
          ]
        }
      ],
      "source": [
        "result = adfuller(seasonally_adjusted.dropna())\n",
        "print('ADF Statistic: %f' % result[0])\n",
        "print('p-value: %f' % result[1])\n",
        "if result[1] < 0.05:\n",
        "    print('The deseasonalized series is stationary')\n",
        "else:\n",
        "    print('The deseasonalized series is not stationary')"
      ]
    },
    {
      "cell_type": "code",
      "execution_count": 57,
      "id": "jF8bdmZM3LpD",
      "metadata": {
        "id": "jF8bdmZM3LpD"
      },
      "outputs": [
        {
          "name": "stdout",
          "output_type": "stream",
          "text": [
            "3\n"
          ]
        }
      ],
      "source": [
        "# Interpolate missing values in the deseasonalized series\n",
        "seasonally_adjusted_filled = seasonally_adjusted.interpolate(method='linear')\n",
        "\n",
        "# Double-check if any missing values remain\n",
        "print(seasonally_adjusted_filled.isnull().sum())"
      ]
    },
    {
      "cell_type": "code",
      "execution_count": 58,
      "id": "Q5ea91A93NgS",
      "metadata": {
        "id": "Q5ea91A93NgS"
      },
      "outputs": [
        {
          "name": "stdout",
          "output_type": "stream",
          "text": [
            "0\n"
          ]
        }
      ],
      "source": [
        "seasonally_adjusted_filled = seasonally_adjusted_filled.dropna()\n",
        "print(seasonally_adjusted_filled.isnull().sum())  # 0 now"
      ]
    },
    {
      "cell_type": "code",
      "execution_count": 59,
      "id": "GcZQL0sd3O6R",
      "metadata": {
        "id": "GcZQL0sd3O6R"
      },
      "outputs": [
        {
          "name": "stdout",
          "output_type": "stream",
          "text": [
            "28\n"
          ]
        }
      ],
      "source": [
        "print(len(seasonally_adjusted_filled))"
      ]
    },
    {
      "cell_type": "code",
      "execution_count": 60,
      "id": "SdUaYA9b3QNX",
      "metadata": {
        "id": "SdUaYA9b3QNX"
      },
      "outputs": [
        {
          "data": {
            "image/png": "[encoded data removed]",
            "text/plain": [
              "<Figure size 640x480 with 1 Axes>"
            ]
          },
          "execution_count": 60,
          "metadata": {},
          "output_type": "execute_result"
        },
        {
          "data": {
            "image/png": "[encoded data removed]",
            "text/plain": [
              "<Figure size 640x480 with 1 Axes>"
            ]
          },
          "metadata": {},
          "output_type": "display_data"
        }
      ],
      "source": [
        "plot_acf(seasonally_adjusted_filled.dropna(), lags=20, ax=plt.gca())"
      ]
    },
    {
      "cell_type": "code",
      "execution_count": 61,
      "id": "-HOhKm-V3Rlg",
      "metadata": {
        "id": "-HOhKm-V3Rlg"
      },
      "outputs": [
        {
          "data": {
            "image/png": "[encoded data removed]",
            "text/plain": [
              "<Figure size 640x480 with 2 Axes>"
            ]
          },
          "metadata": {},
          "output_type": "display_data"
        }
      ],
      "source": [
        "lags = 12  # less than 28/2\n",
        "plot_acf(seasonally_adjusted_filled.dropna(), lags=lags, ax=plt.gca())\n",
        "plt.title('ACF plot')\n",
        "\n",
        "plt.subplot(1,2,2)\n",
        "plot_pacf(seasonally_adjusted_filled.dropna(), lags=lags, ax=plt.gca())\n",
        "plt.title('PACF plot')\n",
        "plt.show()"
      ]
    },
    {
      "cell_type": "code",
      "execution_count": null,
      "id": "UZzC9Ixj3UJ3",
      "metadata": {
        "id": "UZzC9Ixj3UJ3"
      },
      "outputs": [],
      "source": [
        "import numpy as np\n",
        "\n",
        "df['event_type_cart'] = df['event_type_cart'].replace({1: 'cart', 0: np.nan})\n",
        "df['event_type_view'] = df['event_type_view'].replace({1: 'view', 0: np.nan})  # fixed naming\n",
        "df['event_type_purchase'] = df['event_type_purchase'].replace({1: 'purchase', 0: np.nan})\n"
      ]
    },
    {
      "cell_type": "code",
      "execution_count": null,
      "id": "a584a235",
      "metadata": {},
      "outputs": [],
      "source": [
        "df['event_type'] = df[['event_type_purchase', 'event_type_cart', 'event_type_view']].bfill(axis=1).iloc[:, 0]\n"
      ]
    },
    {
      "cell_type": "code",
      "execution_count": null,
      "id": "bff00d79",
      "metadata": {},
      "outputs": [],
      "source": [
        "df['event_type'].unique()"
      ]
    },
    {
      "cell_type": "code",
      "execution_count": null,
      "id": "b186bbb1",
      "metadata": {},
      "outputs": [],
      "source": [
        "#drop the columns\n",
        "df.drop(['event_type_cart', 'event_type_view', 'event_type_purchase'], axis=1, inplace=True)\n",
        "df.head()"
      ]
    }
  ],
  "metadata": {
    "colab": {
      "provenance": []
    },
    "kernelspec": {
      "display_name": "Python 3",
      "language": "python",
      "name": "python3"
    },
    "language_info": {
      "codemirror_mode": {
        "name": "ipython",
        "version": 3
      },
      "file_extension": ".py",
      "mimetype": "text/x-python",
      "name": "python",
      "nbconvert_exporter": "python",
      "pygments_lexer": "ipython3",
      "version": "3.10.6"
    }
  },
  "nbformat": 4,
  "nbformat_minor": 5
}
