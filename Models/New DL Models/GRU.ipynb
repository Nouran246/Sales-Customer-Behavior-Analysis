{
  "cells": [
    {
      "cell_type": "code",
      "source": [
        "from google.colab import drive\n",
        "drive.mount('/content/drive')"
      ],
      "metadata": {
        "colab": {
          "base_uri": "https://localhost:8080/"
        },
        "id": "y1TsMACsKjTT",
        "outputId": "825d312a-fc16-4ec2-efa5-f26759cc10dd"
      },
      "id": "y1TsMACsKjTT",
      "execution_count": 3,
      "outputs": [
        {
          "output_type": "stream",
          "name": "stdout",
          "text": [
            "Mounted at /content/drive\n"
          ]
        }
      ]
    },
    {
      "cell_type": "code",
      "execution_count": 4,
      "id": "a9aac011",
      "metadata": {
        "id": "a9aac011"
      },
      "outputs": [],
      "source": [
        "import numpy as np\n",
        "import pandas as pd\n",
        "from sklearn.model_selection import train_test_split\n",
        "from sklearn.preprocessing import LabelEncoder\n",
        "from tensorflow.keras.models import Sequential\n",
        "from tensorflow.keras.layers import Masking, GRU, Dense\n",
        "from tensorflow.keras.utils import to_categorical"
      ]
    },
    {
      "cell_type": "code",
      "execution_count": 5,
      "id": "0a935413",
      "metadata": {
        "colab": {
          "base_uri": "https://localhost:8080/"
        },
        "id": "0a935413",
        "outputId": "0864b4f4-4993-40c8-d141-1072ec7cb9f3"
      },
      "outputs": [
        {
          "output_type": "stream",
          "name": "stdout",
          "text": [
            "   event_type  product_id   category_id     price    user_id  \\\n",
            "0           1     1002532  2.053010e+18  0.937399  551377651   \n",
            "1           2    26204062  2.053010e+18 -0.188667  515547943   \n",
            "2           1     4804055  2.053010e+18 -0.342339  524601178   \n",
            "3           2     1307240  2.053010e+18  0.211381  520575653   \n",
            "4           0     1002524  2.053010e+18  0.578390  524325294   \n",
            "\n",
            "                           user_session  category_code_0  category_code_1  \\\n",
            "0  3c80f0d6-e9ec-4181-8c5c-837a30be2d68                0                0   \n",
            "1  4737b7aa-83f7-4899-86e0-2d53b2ddbffc                0                0   \n",
            "2  2af9b570-0942-4dcd-8f25-4d84fba82553                0                0   \n",
            "3  9acd3cb7-79b7-4293-bb81-bec02a1c9cd3                0                0   \n",
            "4  0b74a829-f9d7-4654-b5b0-35bc9822c238                0                0   \n",
            "\n",
            "   category_code_2  category_code_3  ...  brand_2  brand_3  brand_4  brand_5  \\\n",
            "0                0                0  ...        0        0        0        0   \n",
            "1                0                0  ...        0        0        0        0   \n",
            "2                0                0  ...        0        0        0        0   \n",
            "3                0                0  ...        0        0        0        0   \n",
            "4                0                0  ...        0        0        0        0   \n",
            "\n",
            "   brand_6  brand_7  brand_8  brand_9  brand_10  brand_11  \n",
            "0        0        0        0        0         0         1  \n",
            "1        0        0        0        0         1         0  \n",
            "2        0        0        0        0         0         1  \n",
            "3        0        0        0        0         1         1  \n",
            "4        0        0        0        0         0         1  \n",
            "\n",
            "[5 rows x 25 columns]\n"
          ]
        }
      ],
      "source": [
        "df = pd.read_csv('/content/drive/MyDrive/Preprocessed Time Series Final.csv')\n",
        "print(df.head())"
      ]
    },
    {
      "cell_type": "code",
      "execution_count": 6,
      "id": "436cded3",
      "metadata": {
        "id": "436cded3"
      },
      "outputs": [],
      "source": [
        "features = ['price'] + [f'category_code_{i}' for i in range(5)] + [f'brand_{i}' for i in range(12)]"
      ]
    },
    {
      "cell_type": "code",
      "execution_count": 7,
      "id": "b3c8dbbf",
      "metadata": {
        "id": "b3c8dbbf"
      },
      "outputs": [],
      "source": [
        " #Step 2: Prepare X and y\n",
        "X = df[features].values  # shape (num_samples, num_features)\n",
        "y = df['event_type'].values  # labels (strings)\n"
      ]
    },
    {
      "cell_type": "code",
      "execution_count": 8,
      "id": "78c9c069",
      "metadata": {
        "id": "78c9c069"
      },
      "outputs": [],
      "source": [
        "from sklearn.preprocessing import LabelEncoder\n",
        "\n",
        "# Step 3: Encode labels as integers\n",
        "le = LabelEncoder()\n",
        "y_encoded = le.fit_transform(y)  # e.g. 'view' -> 0, 'cart' -> 1, 'purchase' -> 2\n",
        "\n",
        "num_classes = len(le.classes_)"
      ]
    },
    {
      "cell_type": "code",
      "execution_count": 9,
      "id": "5b30647d",
      "metadata": {
        "id": "5b30647d"
      },
      "outputs": [],
      "source": [
        " #Step 4: Convert y to one-hot vectors\n",
        "y_onehot = to_categorical(y_encoded, num_classes=num_classes)"
      ]
    },
    {
      "cell_type": "code",
      "execution_count": 10,
      "id": "dcc8c795",
      "metadata": {
        "id": "dcc8c795"
      },
      "outputs": [],
      "source": [
        "# Step 5: Split into train and test\n",
        "X_train, X_test, y_train, y_test = train_test_split(X, y_onehot, test_size=0.2, random_state=42, stratify=y_encoded)\n"
      ]
    },
    {
      "cell_type": "code",
      "execution_count": 11,
      "id": "08a6b48e",
      "metadata": {
        "id": "08a6b48e"
      },
      "outputs": [],
      "source": [
        "# Step 6: Reshape for GRU input: (samples, timesteps, features)\n",
        "seq_length = 1\n",
        "num_features = len(features)\n",
        "X_train = X_train.reshape((X_train.shape[0], seq_length, num_features))\n",
        "X_test = X_test.reshape((X_test.shape[0], seq_length, num_features))"
      ]
    },
    {
      "cell_type": "code",
      "execution_count": 12,
      "id": "da65d97d",
      "metadata": {
        "colab": {
          "base_uri": "https://localhost:8080/"
        },
        "id": "da65d97d",
        "outputId": "30b8e4f7-fe20-45af-ac72-7d723abce454"
      },
      "outputs": [
        {
          "output_type": "stream",
          "name": "stderr",
          "text": [
            "/usr/local/lib/python3.11/dist-packages/keras/src/layers/core/masking.py:47: UserWarning: Do not pass an `input_shape`/`input_dim` argument to a layer. When using Sequential models, prefer using an `Input(shape)` object as the first layer in the model instead.\n",
            "  super().__init__(**kwargs)\n"
          ]
        }
      ],
      "source": [
        "# Step 7: Build model with GRU\n",
        "model = Sequential()\n",
        "model.add(Masking(mask_value=0., input_shape=(seq_length, num_features)))\n",
        "model.add(GRU(64, return_sequences=False))\n",
        "model.add(Dense(32, activation='relu'))\n",
        "model.add(Dense(num_classes, activation='softmax'))"
      ]
    },
    {
      "cell_type": "code",
      "execution_count": 13,
      "id": "2ab9a046",
      "metadata": {
        "id": "2ab9a046"
      },
      "outputs": [],
      "source": [
        "model.compile(loss='categorical_crossentropy', optimizer='adam', metrics=['accuracy'])"
      ]
    },
    {
      "cell_type": "code",
      "execution_count": 14,
      "id": "92d5cd4a",
      "metadata": {
        "colab": {
          "base_uri": "https://localhost:8080/"
        },
        "id": "92d5cd4a",
        "outputId": "b30d9c9a-7c73-4324-fd87-611a96d34310"
      },
      "outputs": [
        {
          "output_type": "stream",
          "name": "stdout",
          "text": [
            "Epoch 1/10\n",
            "\u001b[1m20000/20000\u001b[0m \u001b[32m━━━━━━━━━━━━━━━━━━━━\u001b[0m\u001b[37m\u001b[0m \u001b[1m88s\u001b[0m 4ms/step - accuracy: 0.4483 - loss: 1.0377 - val_accuracy: 0.4632 - val_loss: 1.0167\n",
            "Epoch 2/10\n",
            "\u001b[1m20000/20000\u001b[0m \u001b[32m━━━━━━━━━━━━━━━━━━━━\u001b[0m\u001b[37m\u001b[0m \u001b[1m139s\u001b[0m 4ms/step - accuracy: 0.4667 - loss: 1.0153 - val_accuracy: 0.4691 - val_loss: 1.0089\n",
            "Epoch 3/10\n",
            "\u001b[1m20000/20000\u001b[0m \u001b[32m━━━━━━━━━━━━━━━━━━━━\u001b[0m\u001b[37m\u001b[0m \u001b[1m81s\u001b[0m 4ms/step - accuracy: 0.4701 - loss: 1.0090 - val_accuracy: 0.4704 - val_loss: 1.0081\n",
            "Epoch 4/10\n",
            "\u001b[1m20000/20000\u001b[0m \u001b[32m━━━━━━━━━━━━━━━━━━━━\u001b[0m\u001b[37m\u001b[0m \u001b[1m85s\u001b[0m 4ms/step - accuracy: 0.4714 - loss: 1.0053 - val_accuracy: 0.4730 - val_loss: 1.0034\n",
            "Epoch 5/10\n",
            "\u001b[1m20000/20000\u001b[0m \u001b[32m━━━━━━━━━━━━━━━━━━━━\u001b[0m\u001b[37m\u001b[0m \u001b[1m81s\u001b[0m 4ms/step - accuracy: 0.4721 - loss: 1.0025 - val_accuracy: 0.4739 - val_loss: 1.0027\n",
            "Epoch 6/10\n",
            "\u001b[1m20000/20000\u001b[0m \u001b[32m━━━━━━━━━━━━━━━━━━━━\u001b[0m\u001b[37m\u001b[0m \u001b[1m82s\u001b[0m 4ms/step - accuracy: 0.4736 - loss: 1.0017 - val_accuracy: 0.4734 - val_loss: 1.0016\n",
            "Epoch 7/10\n",
            "\u001b[1m20000/20000\u001b[0m \u001b[32m━━━━━━━━━━━━━━━━━━━━\u001b[0m\u001b[37m\u001b[0m \u001b[1m82s\u001b[0m 4ms/step - accuracy: 0.4752 - loss: 0.9993 - val_accuracy: 0.4738 - val_loss: 0.9999\n",
            "Epoch 8/10\n",
            "\u001b[1m20000/20000\u001b[0m \u001b[32m━━━━━━━━━━━━━━━━━━━━\u001b[0m\u001b[37m\u001b[0m \u001b[1m83s\u001b[0m 4ms/step - accuracy: 0.4739 - loss: 0.9989 - val_accuracy: 0.4707 - val_loss: 1.0005\n",
            "Epoch 9/10\n",
            "\u001b[1m20000/20000\u001b[0m \u001b[32m━━━━━━━━━━━━━━━━━━━━\u001b[0m\u001b[37m\u001b[0m \u001b[1m82s\u001b[0m 4ms/step - accuracy: 0.4746 - loss: 0.9983 - val_accuracy: 0.4785 - val_loss: 0.9983\n",
            "Epoch 10/10\n",
            "\u001b[1m20000/20000\u001b[0m \u001b[32m━━━━━━━━━━━━━━━━━━━━\u001b[0m\u001b[37m\u001b[0m \u001b[1m85s\u001b[0m 4ms/step - accuracy: 0.4746 - loss: 0.9975 - val_accuracy: 0.4766 - val_loss: 0.9983\n"
          ]
        },
        {
          "output_type": "execute_result",
          "data": {
            "text/plain": [
              "<keras.src.callbacks.history.History at 0x7a23814fae50>"
            ]
          },
          "metadata": {},
          "execution_count": 14
        }
      ],
      "source": [
        "model.fit(X_train, y_train, epochs=10, batch_size=32, validation_split=0.2)"
      ]
    },
    {
      "cell_type": "code",
      "execution_count": 15,
      "id": "14f57bac",
      "metadata": {
        "colab": {
          "base_uri": "https://localhost:8080/"
        },
        "id": "14f57bac",
        "outputId": "552b9098-81a9-4013-b635-d8502ce58772"
      },
      "outputs": [
        {
          "output_type": "stream",
          "name": "stdout",
          "text": [
            "Epoch 1/10\n",
            "\u001b[1m20000/20000\u001b[0m \u001b[32m━━━━━━━━━━━━━━━━━━━━\u001b[0m\u001b[37m\u001b[0m \u001b[1m85s\u001b[0m 4ms/step - accuracy: 0.4757 - loss: 0.9965 - val_accuracy: 0.4773 - val_loss: 0.9970\n",
            "Epoch 2/10\n",
            "\u001b[1m20000/20000\u001b[0m \u001b[32m━━━━━━━━━━━━━━━━━━━━\u001b[0m\u001b[37m\u001b[0m \u001b[1m82s\u001b[0m 4ms/step - accuracy: 0.4753 - loss: 0.9959 - val_accuracy: 0.4768 - val_loss: 0.9968\n",
            "Epoch 3/10\n",
            "\u001b[1m20000/20000\u001b[0m \u001b[32m━━━━━━━━━━━━━━━━━━━━\u001b[0m\u001b[37m\u001b[0m \u001b[1m139s\u001b[0m 4ms/step - accuracy: 0.4767 - loss: 0.9948 - val_accuracy: 0.4770 - val_loss: 0.9976\n",
            "Epoch 4/10\n",
            "\u001b[1m20000/20000\u001b[0m \u001b[32m━━━━━━━━━━━━━━━━━━━━\u001b[0m\u001b[37m\u001b[0m \u001b[1m79s\u001b[0m 4ms/step - accuracy: 0.4765 - loss: 0.9950 - val_accuracy: 0.4762 - val_loss: 0.9958\n",
            "Epoch 5/10\n",
            "\u001b[1m20000/20000\u001b[0m \u001b[32m━━━━━━━━━━━━━━━━━━━━\u001b[0m\u001b[37m\u001b[0m \u001b[1m80s\u001b[0m 4ms/step - accuracy: 0.4766 - loss: 0.9939 - val_accuracy: 0.4769 - val_loss: 0.9966\n",
            "Epoch 6/10\n",
            "\u001b[1m20000/20000\u001b[0m \u001b[32m━━━━━━━━━━━━━━━━━━━━\u001b[0m\u001b[37m\u001b[0m \u001b[1m82s\u001b[0m 4ms/step - accuracy: 0.4786 - loss: 0.9934 - val_accuracy: 0.4783 - val_loss: 0.9957\n",
            "Epoch 7/10\n",
            "\u001b[1m20000/20000\u001b[0m \u001b[32m━━━━━━━━━━━━━━━━━━━━\u001b[0m\u001b[37m\u001b[0m \u001b[1m81s\u001b[0m 4ms/step - accuracy: 0.4786 - loss: 0.9927 - val_accuracy: 0.4768 - val_loss: 0.9950\n",
            "Epoch 8/10\n",
            "\u001b[1m20000/20000\u001b[0m \u001b[32m━━━━━━━━━━━━━━━━━━━━\u001b[0m\u001b[37m\u001b[0m \u001b[1m83s\u001b[0m 4ms/step - accuracy: 0.4774 - loss: 0.9929 - val_accuracy: 0.4787 - val_loss: 0.9948\n",
            "Epoch 9/10\n",
            "\u001b[1m20000/20000\u001b[0m \u001b[32m━━━━━━━━━━━━━━━━━━━━\u001b[0m\u001b[37m\u001b[0m \u001b[1m82s\u001b[0m 4ms/step - accuracy: 0.4786 - loss: 0.9920 - val_accuracy: 0.4763 - val_loss: 0.9956\n",
            "Epoch 10/10\n",
            "\u001b[1m20000/20000\u001b[0m \u001b[32m━━━━━━━━━━━━━━━━━━━━\u001b[0m\u001b[37m\u001b[0m \u001b[1m155s\u001b[0m 5ms/step - accuracy: 0.4780 - loss: 0.9925 - val_accuracy: 0.4762 - val_loss: 0.9951\n"
          ]
        },
        {
          "output_type": "execute_result",
          "data": {
            "text/plain": [
              "<keras.src.callbacks.history.History at 0x7a2381704490>"
            ]
          },
          "metadata": {},
          "execution_count": 15
        }
      ],
      "source": [
        "\n",
        "# Step 8: Train\n",
        "model.fit(X_train, y_train, epochs=10, batch_size=32, validation_split=0.2)"
      ]
    },
    {
      "cell_type": "code",
      "execution_count": 16,
      "id": "eb5e9ff2",
      "metadata": {
        "colab": {
          "base_uri": "https://localhost:8080/"
        },
        "id": "eb5e9ff2",
        "outputId": "b53d0f5c-b84d-4826-faf1-45ebdeb9b11d"
      },
      "outputs": [
        {
          "output_type": "stream",
          "name": "stdout",
          "text": [
            "\u001b[1m6250/6250\u001b[0m \u001b[32m━━━━━━━━━━━━━━━━━━━━\u001b[0m\u001b[37m\u001b[0m \u001b[1m13s\u001b[0m 2ms/step - accuracy: 0.4754 - loss: 0.9941\n",
            "Test Accuracy: 0.4762\n"
          ]
        }
      ],
      "source": [
        "# Step 9: Evaluate\n",
        "loss, accuracy = model.evaluate(X_test, y_test)\n",
        "print(f'Test Accuracy: {accuracy:.4f}')"
      ]
    },
    {
      "cell_type": "code",
      "execution_count": 17,
      "id": "292971c7",
      "metadata": {
        "colab": {
          "base_uri": "https://localhost:8080/",
          "height": 427
        },
        "id": "292971c7",
        "outputId": "d773939c-c5a4-4ba7-c367-090b2da677be"
      },
      "outputs": [
        {
          "output_type": "stream",
          "name": "stdout",
          "text": [
            "\u001b[1m6250/6250\u001b[0m \u001b[32m━━━━━━━━━━━━━━━━━━━━\u001b[0m\u001b[37m\u001b[0m \u001b[1m10s\u001b[0m 2ms/step\n"
          ]
        },
        {
          "output_type": "display_data",
          "data": {
            "text/plain": [
              "<Figure size 600x400 with 2 Axes>"
            ],
            "image/png": "[encoded data removed]"
          },
          "metadata": {}
        }
      ],
      "source": [
        "from sklearn.metrics import confusion_matrix\n",
        "import seaborn as sns\n",
        "\n",
        "import matplotlib.pyplot as plt\n",
        "\n",
        "# Get predicted classes for test set\n",
        "y_pred_probs = model.predict(X_test)\n",
        "y_pred = y_pred_probs.argmax(axis=1)\n",
        "y_true = y_test.argmax(axis=1)\n",
        "\n",
        "# Compute confusion matrix\n",
        "cm = confusion_matrix(y_true, y_pred)\n",
        "\n",
        "# Plot confusion matrix\n",
        "plt.figure(figsize=(6, 4))\n",
        "sns.heatmap(cm, annot=True, fmt='d', cmap='Blues',\n",
        "            xticklabels=le.classes_, yticklabels=le.classes_)\n",
        "plt.xlabel('Predicted')\n",
        "plt.ylabel('True')\n",
        "plt.title('Confusion Matrix')\n",
        "plt.show()"
      ]
    },
    {
      "cell_type": "code",
      "execution_count": 18,
      "id": "b2102437",
      "metadata": {
        "colab": {
          "base_uri": "https://localhost:8080/"
        },
        "id": "b2102437",
        "outputId": "9e1d2af7-4623-473a-dacd-71a14540ffe8"
      },
      "outputs": [
        {
          "output_type": "stream",
          "name": "stderr",
          "text": [
            "WARNING:absl:You are saving your model as an HDF5 file via `model.save()` or `keras.saving.save_model(model)`. This file format is considered legacy. We recommend using instead the native Keras format, e.g. `model.save('my_model.keras')` or `keras.saving.save_model(model, 'my_model.keras')`. \n"
          ]
        }
      ],
      "source": [
        "#save the model\n",
        "from tensorflow.keras.models import load_model\n",
        "model.save('GRU_model.h5')"
      ]
    },
    {
      "cell_type": "code",
      "execution_count": 19,
      "id": "bcab7572",
      "metadata": {
        "colab": {
          "base_uri": "https://localhost:8080/"
        },
        "id": "bcab7572",
        "outputId": "467134fc-1af6-4be7-9d88-a624aa9df762"
      },
      "outputs": [
        {
          "output_type": "stream",
          "name": "stderr",
          "text": [
            "WARNING:absl:Compiled the loaded model, but the compiled metrics have yet to be built. `model.compile_metrics` will be empty until you train or evaluate the model.\n"
          ]
        }
      ],
      "source": [
        "#load the model\n",
        "loaded_model = load_model('GRU_model.h5')"
      ]
    }
  ],
  "metadata": {
    "kernelspec": {
      "display_name": "Python 3",
      "language": "python",
      "name": "python3"
    },
    "language_info": {
      "codemirror_mode": {
        "name": "ipython",
        "version": 3
      },
      "file_extension": ".py",
      "mimetype": "text/x-python",
      "name": "python",
      "nbconvert_exporter": "python",
      "pygments_lexer": "ipython3",
      "version": "3.10.0"
    },
    "colab": {
      "provenance": []
    }
  },
  "nbformat": 4,
  "nbformat_minor": 5
}